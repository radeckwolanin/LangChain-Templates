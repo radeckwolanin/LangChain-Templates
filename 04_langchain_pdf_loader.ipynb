{
 "cells": [
  {
   "cell_type": "markdown",
   "metadata": {},
   "source": [
    "# PDF Loader\n",
    "This covers how to load PDF documents into the Document format that we use downstream."
   ]
  },
  {
   "cell_type": "code",
   "execution_count": 1,
   "metadata": {},
   "outputs": [
    {
     "name": "stdout",
     "output_type": "stream",
     "text": [
      "Requirement already satisfied: python-dotenv in /home/azureuser/miniconda3/envs/RemoteEnv/lib/python3.8/site-packages (1.0.0)\n",
      "Requirement already satisfied: langchain in /home/azureuser/miniconda3/envs/RemoteEnv/lib/python3.8/site-packages (0.0.249)\n",
      "Requirement already satisfied: openai in /home/azureuser/miniconda3/envs/RemoteEnv/lib/python3.8/site-packages (0.27.2)\n",
      "Requirement already satisfied: PyYAML>=5.4.1 in /home/azureuser/miniconda3/envs/RemoteEnv/lib/python3.8/site-packages (from langchain) (6.0)\n",
      "Requirement already satisfied: SQLAlchemy<3,>=1.4 in /home/azureuser/miniconda3/envs/RemoteEnv/lib/python3.8/site-packages (from langchain) (2.0.19)\n",
      "Requirement already satisfied: aiohttp<4.0.0,>=3.8.3 in /home/azureuser/miniconda3/envs/RemoteEnv/lib/python3.8/site-packages (from langchain) (3.8.5)\n",
      "Requirement already satisfied: async-timeout<5.0.0,>=4.0.0 in /home/azureuser/miniconda3/envs/RemoteEnv/lib/python3.8/site-packages (from langchain) (4.0.2)\n",
      "Requirement already satisfied: dataclasses-json<0.6.0,>=0.5.7 in /home/azureuser/miniconda3/envs/RemoteEnv/lib/python3.8/site-packages (from langchain) (0.5.14)\n",
      "Requirement already satisfied: langsmith<0.1.0,>=0.0.11 in /home/azureuser/miniconda3/envs/RemoteEnv/lib/python3.8/site-packages (from langchain) (0.0.16)\n",
      "Requirement already satisfied: numexpr<3.0.0,>=2.8.4 in /home/azureuser/miniconda3/envs/RemoteEnv/lib/python3.8/site-packages (from langchain) (2.8.4)\n",
      "Requirement already satisfied: numpy<2,>=1 in /home/azureuser/miniconda3/envs/RemoteEnv/lib/python3.8/site-packages (from langchain) (1.23.5)\n",
      "Requirement already satisfied: openapi-schema-pydantic<2.0,>=1.2 in /home/azureuser/miniconda3/envs/RemoteEnv/lib/python3.8/site-packages (from langchain) (1.2.4)\n",
      "Requirement already satisfied: pydantic<2,>=1 in /home/azureuser/miniconda3/envs/RemoteEnv/lib/python3.8/site-packages (from langchain) (1.10.12)\n",
      "Requirement already satisfied: requests<3,>=2 in /home/azureuser/miniconda3/envs/RemoteEnv/lib/python3.8/site-packages (from langchain) (2.31.0)\n",
      "Requirement already satisfied: tenacity<9.0.0,>=8.1.0 in /home/azureuser/miniconda3/envs/RemoteEnv/lib/python3.8/site-packages (from langchain) (8.2.2)\n",
      "Requirement already satisfied: tqdm in /home/azureuser/miniconda3/envs/RemoteEnv/lib/python3.8/site-packages (from openai) (4.65.0)\n",
      "Requirement already satisfied: attrs>=17.3.0 in /home/azureuser/miniconda3/envs/RemoteEnv/lib/python3.8/site-packages (from aiohttp<4.0.0,>=3.8.3->langchain) (22.1.0)\n",
      "Requirement already satisfied: charset-normalizer<4.0,>=2.0 in /home/azureuser/miniconda3/envs/RemoteEnv/lib/python3.8/site-packages (from aiohttp<4.0.0,>=3.8.3->langchain) (3.2.0)\n",
      "Requirement already satisfied: multidict<7.0,>=4.5 in /home/azureuser/miniconda3/envs/RemoteEnv/lib/python3.8/site-packages (from aiohttp<4.0.0,>=3.8.3->langchain) (6.0.2)\n",
      "Requirement already satisfied: yarl<2.0,>=1.0 in /home/azureuser/miniconda3/envs/RemoteEnv/lib/python3.8/site-packages (from aiohttp<4.0.0,>=3.8.3->langchain) (1.8.1)\n",
      "Requirement already satisfied: frozenlist>=1.1.1 in /home/azureuser/miniconda3/envs/RemoteEnv/lib/python3.8/site-packages (from aiohttp<4.0.0,>=3.8.3->langchain) (1.3.3)\n",
      "Requirement already satisfied: aiosignal>=1.1.2 in /home/azureuser/miniconda3/envs/RemoteEnv/lib/python3.8/site-packages (from aiohttp<4.0.0,>=3.8.3->langchain) (1.2.0)\n",
      "Requirement already satisfied: marshmallow<4.0.0,>=3.18.0 in /home/azureuser/miniconda3/envs/RemoteEnv/lib/python3.8/site-packages (from dataclasses-json<0.6.0,>=0.5.7->langchain) (3.20.1)\n",
      "Requirement already satisfied: typing-inspect<1,>=0.4.0 in /home/azureuser/miniconda3/envs/RemoteEnv/lib/python3.8/site-packages (from dataclasses-json<0.6.0,>=0.5.7->langchain) (0.9.0)\n",
      "Requirement already satisfied: typing-extensions>=4.2.0 in /home/azureuser/miniconda3/envs/RemoteEnv/lib/python3.8/site-packages (from pydantic<2,>=1->langchain) (4.7.1)\n",
      "Requirement already satisfied: idna<4,>=2.5 in /home/azureuser/miniconda3/envs/RemoteEnv/lib/python3.8/site-packages (from requests<3,>=2->langchain) (3.4)\n",
      "Requirement already satisfied: urllib3<3,>=1.21.1 in /home/azureuser/miniconda3/envs/RemoteEnv/lib/python3.8/site-packages (from requests<3,>=2->langchain) (1.26.16)\n",
      "Requirement already satisfied: certifi>=2017.4.17 in /home/azureuser/miniconda3/envs/RemoteEnv/lib/python3.8/site-packages (from requests<3,>=2->langchain) (2023.7.22)\n",
      "Requirement already satisfied: greenlet!=0.4.17 in /home/azureuser/miniconda3/envs/RemoteEnv/lib/python3.8/site-packages (from SQLAlchemy<3,>=1.4->langchain) (2.0.2)\n",
      "Requirement already satisfied: packaging>=17.0 in /home/azureuser/miniconda3/envs/RemoteEnv/lib/python3.8/site-packages (from marshmallow<4.0.0,>=3.18.0->dataclasses-json<0.6.0,>=0.5.7->langchain) (23.0)\n",
      "Requirement already satisfied: mypy-extensions>=0.3.0 in /home/azureuser/miniconda3/envs/RemoteEnv/lib/python3.8/site-packages (from typing-inspect<1,>=0.4.0->dataclasses-json<0.6.0,>=0.5.7->langchain) (1.0.0)\n"
     ]
    }
   ],
   "source": [
    "!pip install python-dotenv langchain openai"
   ]
  },
  {
   "cell_type": "markdown",
   "metadata": {},
   "source": [
    "## Using PyPDF\n",
    "Load PDF using `pypdf` into array of documents, where each document contains the page content and metadata with page number."
   ]
  },
  {
   "cell_type": "code",
   "execution_count": 2,
   "metadata": {},
   "outputs": [
    {
     "name": "stdout",
     "output_type": "stream",
     "text": [
      "Collecting pypdf\n",
      "  Obtaining dependency information for pypdf from https://files.pythonhosted.org/packages/fe/e6/a23048e3ae56daf03479f5fe2f49af8d989cab1bcc1f8d2f15de83a3eaea/pypdf-3.14.0-py3-none-any.whl.metadata\n",
      "  Downloading pypdf-3.14.0-py3-none-any.whl.metadata (6.9 kB)\n",
      "Requirement already satisfied: typing_extensions>=3.10.0.0 in /home/azureuser/miniconda3/envs/RemoteEnv/lib/python3.8/site-packages (from pypdf) (4.7.1)\n",
      "Downloading pypdf-3.14.0-py3-none-any.whl (269 kB)\n",
      "\u001b[2K   \u001b[90m━━━━━━━━━━━━━━━━━━━━━━━━━━━━━━━━━━━━━━━━\u001b[0m \u001b[32m269.8/269.8 kB\u001b[0m \u001b[31m21.8 MB/s\u001b[0m eta \u001b[36m0:00:00\u001b[0m\n",
      "\u001b[?25hInstalling collected packages: pypdf\n",
      "Successfully installed pypdf-3.14.0\n"
     ]
    }
   ],
   "source": [
    "!pip install pypdf"
   ]
  },
  {
   "cell_type": "code",
   "execution_count": 3,
   "metadata": {},
   "outputs": [],
   "source": [
    "from langchain.document_loaders import PyPDFLoader\n",
    "\n",
    "loader = PyPDFLoader(\"data/MetaAI - LLM guide with Llama2, fine tuning.pdf\")\n",
    "pages = loader.load_and_split()"
   ]
  },
  {
   "cell_type": "code",
   "execution_count": 5,
   "metadata": {},
   "outputs": [
    {
     "data": {
      "text/plain": [
       "Document(page_content='The responsible fine-tuning flow\\nHere are the general steps needed to responsibly fine-\\ntune an LLM for alignment, guided at a high  \\nlevel by Meta’s Responsible AI  framework:\\n1. Define content policies & mitigations\\n2. Prepare data  \\n3. Train the model\\n4. Evaluate and improve performance \\nSTEP 1: DEFINE CONTENT POLICIES & MITIGATIONS \\nBased on the intended use and audience for your \\nproduct, a content policy will define what content \\nis allowable and may outline safety limitations on \\nproducing illegal, violent, or harmful content. These \\nlimits should be evaluated in light of the product \\ndomain, as specific sectors and regions may have \\ndifferent laws or standards. Additionally, the needs \\nof specific user communities should be considered as \\nyou design content policies, such as the development \\nof age-appropriate product experiences. Having \\nthese policies in place will dictate the data needed, \\nannotation requirements, and goals for safety  \\nfine-tuning, including the types of mitigation steps \\nthat will be implemented. These policies will be  \\nused for labeling data in later stages when using  \\nRLHF and in additional product layers, such as  \\nmaking enforcement decisions for user inputs  \\nand model outputs.\\n9\\nJ U LY 2023', metadata={'source': 'data/MetaAI - LLM guide with Llama2, fine tuning.pdf', 'page': 10})"
      ]
     },
     "execution_count": 5,
     "metadata": {},
     "output_type": "execute_result"
    }
   ],
   "source": [
    "pages[10]"
   ]
  },
  {
   "cell_type": "code",
   "execution_count": null,
   "metadata": {},
   "outputs": [],
   "source": []
  }
 ],
 "metadata": {
  "kernelspec": {
   "display_name": "RemoteEnv",
   "language": "python",
   "name": "python3"
  },
  "language_info": {
   "codemirror_mode": {
    "name": "ipython",
    "version": 3
   },
   "file_extension": ".py",
   "mimetype": "text/x-python",
   "name": "python",
   "nbconvert_exporter": "python",
   "pygments_lexer": "ipython3",
   "version": "3.8.17"
  },
  "orig_nbformat": 4
 },
 "nbformat": 4,
 "nbformat_minor": 2
}
