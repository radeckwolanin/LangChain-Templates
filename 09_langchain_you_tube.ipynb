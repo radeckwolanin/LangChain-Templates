{
 "cells": [
  {
   "cell_type": "markdown",
   "metadata": {},
   "source": [
    "# YouTube - summary generator\n",
    "Use YT videos transcript and summarize it"
   ]
  },
  {
   "cell_type": "code",
   "execution_count": 7,
   "metadata": {},
   "outputs": [
    {
     "name": "stdout",
     "output_type": "stream",
     "text": [
      "Collecting youtube-transcript-api\n",
      "  Obtaining dependency information for youtube-transcript-api from https://files.pythonhosted.org/packages/33/c1/18e32c7cd693802056f385c3ee78825102566be94a811b6556f17783c743/youtube_transcript_api-0.6.1-py3-none-any.whl.metadata\n",
      "  Downloading youtube_transcript_api-0.6.1-py3-none-any.whl.metadata (14 kB)\n",
      "Requirement already satisfied: requests in /home/azureuser/miniconda3/envs/RemoteEnv/lib/python3.8/site-packages (from youtube-transcript-api) (2.31.0)\n",
      "Requirement already satisfied: charset-normalizer<4,>=2 in /home/azureuser/miniconda3/envs/RemoteEnv/lib/python3.8/site-packages (from requests->youtube-transcript-api) (3.2.0)\n",
      "Requirement already satisfied: idna<4,>=2.5 in /home/azureuser/miniconda3/envs/RemoteEnv/lib/python3.8/site-packages (from requests->youtube-transcript-api) (3.4)\n",
      "Requirement already satisfied: urllib3<3,>=1.21.1 in /home/azureuser/miniconda3/envs/RemoteEnv/lib/python3.8/site-packages (from requests->youtube-transcript-api) (1.26.16)\n",
      "Requirement already satisfied: certifi>=2017.4.17 in /home/azureuser/miniconda3/envs/RemoteEnv/lib/python3.8/site-packages (from requests->youtube-transcript-api) (2023.7.22)\n",
      "Downloading youtube_transcript_api-0.6.1-py3-none-any.whl (24 kB)\n",
      "Installing collected packages: youtube-transcript-api\n",
      "Successfully installed youtube-transcript-api-0.6.1\n",
      "Collecting pytube\n",
      "  Downloading pytube-15.0.0-py3-none-any.whl (57 kB)\n",
      "\u001b[2K     \u001b[90m━━━━━━━━━━━━━━━━━━━━━━━━━━━━━━━━━━━━━━━━\u001b[0m \u001b[32m57.6/57.6 kB\u001b[0m \u001b[31m9.8 MB/s\u001b[0m eta \u001b[36m0:00:00\u001b[0m\n",
      "\u001b[?25hInstalling collected packages: pytube\n",
      "Successfully installed pytube-15.0.0\n"
     ]
    }
   ],
   "source": [
    "! pip install youtube-transcript-api\n",
    "! pip install pytube"
   ]
  },
  {
   "cell_type": "code",
   "execution_count": 2,
   "metadata": {},
   "outputs": [],
   "source": [
    "import os\n",
    "from dotenv import load_dotenv\n",
    "from langchain.document_loaders import YoutubeLoader\n",
    "from langchain.llms import OpenAI\n",
    "from langchain.chains.summarize import load_summarize_chain"
   ]
  },
  {
   "cell_type": "code",
   "execution_count": 4,
   "metadata": {},
   "outputs": [],
   "source": [
    "load_dotenv() # Load environment variables from .env file\n",
    "OPENAI_API_KEY = os.getenv(\"OPENAI_API_KEY\") # Get API key from environment variable\n",
    "os.environ[\"LANGCHAIN_TRACING_V2\"] = \"true\"\n",
    "os.environ[\"LANGCHAIN_ENDPOINT\"] = \"https://api.smith.langchain.com\"\n",
    "os.environ[\"LANGCHAIN_API_KEY\"] = \"ls__7fe96d9dfa664e99ad0e78c2f9302178\"\n",
    "os.environ[\"LANGCHAIN_PROJECT\"] = \"youtube_template\""
   ]
  },
  {
   "cell_type": "markdown",
   "metadata": {},
   "source": [
    "1. Simple Video"
   ]
  },
  {
   "cell_type": "code",
   "execution_count": 38,
   "metadata": {},
   "outputs": [],
   "source": [
    "loader = YoutubeLoader.from_youtube_url(\"https://www.youtube.com/watch?v=pNcQ5XXMgH4\", add_video_info=True)"
   ]
  },
  {
   "cell_type": "code",
   "execution_count": 39,
   "metadata": {},
   "outputs": [],
   "source": [
    "result = loader.load()"
   ]
  },
  {
   "cell_type": "code",
   "execution_count": 40,
   "metadata": {},
   "outputs": [
    {
     "name": "stdout",
     "output_type": "stream",
     "text": [
      "<class 'list'>\n",
      "Found video from Greg Kamradt (Data Indy) that is 668 seconds long\n",
      "{'source': 'pNcQ5XXMgH4', 'title': 'LangChain 101: YouTube Transcripts + OpenAI', 'description': 'Unknown', 'view_count': 17764, 'thumbnail_url': 'https://i.ytimg.com/vi/pNcQ5XXMgH4/hqdefault.jpg?sqp=-oaymwEXCJADEOABSFryq4qpAwkIARUAAIhCGAE=&rs=AOn4CLCmP9TXvB4nm22ZX7b5Tl0AagEU3A', 'publish_date': '2023-02-23 00:00:00', 'length': 668, 'author': 'Greg Kamradt (Data Indy)'}\n",
      "\n",
      "[Document(page_content=\"what is going on good people again right now we have a super exciting tutorial because we are going to take YouTube transcripts and we're going to pass them to open Ai and the way that we're going to do that is via a library called Lang chain which is what this entire series is about now before we jumped into it I wanted to show a diagram again I think these diagrams are helpful but you have to let me know so just let me know in the comments here so I wanted to do an overview about what we're actually going to be writing out in code because I think it's a little easier to see in pictures first so the way this is going to work is we're going to have a video a YouTube video we're going to pass it we're going to pass it a URL and then what Lang chain is going to help us do is it's going to help us load this video as a document and a document just means you're going to be taking the transcript which is the text of the video and you're going to be loading it as a document which is something that lane chain can help understand now with that document we're then going to go generate a summary of it and the way that link chain is going to do this is it's going to create a prompt for us that says hey generate me a concise summary of the following text and then it's going insert the transcript of the YouTube video which is pretty sweet and this is going to happen in open Ai and this is going to happen to be an API call and then what we get out the other end is open AI is going to tell us hey this video is about XYZ now an interesting part about this and where it gets kind of confusing is well what happens if your video is too long oh no our video two is too long we can't pass this because say you're looking at a YouTube video and it's like an hour long well you can't pass all that transcript into open AI because they have a token limit and this is where a lot of the ergonomics of Lang chain really come to help out here now what we're going to do is we're actually going to split up that text so we're going to still see that it's from video two but we're going to have our document one document two document three and then what Lang chain is going to help us do is it's going to go to open Ai and it's going to say hey I want you to generate a summary for me of document one generate of document 2 generate of document three now the cool part about this is that this is all under the hood the cool part is then what it's going to do is it's going to say hey please generate me a summary of these summaries and then all of a sudden open AI is going to give us a summary of the summaries and the conclusion you get with the video is all the way about now this is one method of kind of combining documents like this and this is called the map reduce method but we'll get into that in a second when we talk about the different chain types all right that's enough diagrams let's look at some code here all right now that we're looking at some code here our first import statements uh this the star of the show here is going to be the YouTube loader this is going to be the tool that is going to help us do this we're going to uh import open Ai and we're going to import load summarize chain because this is going to be the chain that's going to help summarize for us so let's go ahead and run those I also had to install YouTube's transcripts API and then also pytube as well in case you uh run on that same problem so with the YouTube loader we're going to call Dot from YouTube URL and we are going to pass it a single YouTube url here and what that'll do is we're going to store that in a loader so to get it ready and kind of stage it and then we're actually going to call Dot load on it which is going to do the loading for us and I wanted to print this out and show you what we have here so if we have if we look at this result you can see that the result is a list of items it's very important we'll talk about this in a second year and then we just have some metadata on it but it is going to be a list of documents and these are the things that lane chain can help understand and can process for us and in this document you can see here that there's a page context which is going to be the transcript that is from this video and then we also have some interesting metadata too about the video itself but I'm going to go ahead and close this here we're going to uh instantially oh I want I need to load the open AI key we're going to initialize our large language model which is going to be the open AI one and then we're going to call load summarize chain we're going to pass it our model we're going to say chain type equals stuff important here we're going to talk about why this is changing later we're going to say verbose equals false because we don't want to see anything and then we're going to pass it the result that we loaded in which is the the document or the list of documents that we had let's go ahead and run this and then all of a sudden we get cool Pedro Pascal shared his experiences shooting HBO's Last of Us awesome so just based off the transcript it has a some summary of the YouTube video for us nice but what if you have a long video so I wanted to show you this one here we have another YouTube video which is going to be a podcast of my first million on here we hear some Sean talk and you can see that it is going to be almost 60 Minutes long and this is quite long and spoiler alert it's too long for open AI uh for the token limit that they have so let me show you this though we're going to load this in we're going to load the result you can see it takes a little bit and then we're going to say load summarize chain okay cool with chain type equals stuff and we're going to run this result here and then oh no we have an error it's trying to do something up here and it says this model's maximum context is uh 4097 tokens you've requested almost fifteen thousand and that's no good because that's too long so in the old days before Lang chain what we'd have to do here is we'd have to figure out some way to either run multiple pieces ourselves manually copy and paste it'd be a freaking mess we don't want to do any of that stuff so the problem is your transcript or your document is too long now what we're going to do here is we're actually going to split up that document which is what we saw earlier on the diagram and so I'm going to load in the recursive character splitter and I'm going to get this loaded here and I'm just going to set a chunk size of 2000. you can play with this it might be different for your use case whatever you want but if you're not getting what you need try switching this variable if you want some help there I'm going to load up that text footer and now what I'm going to do is I'm going to load in that single YouTube video into the text splitter and what it's going to do for me is actually I want to show you this here uh text and so let's let's first check out the type of text it is going to be a list okay cool let's see what it's a list of and you can see here it's a list of documents and this page context is still quite long but it's we're aiming for a chunk size of about 2 000. I just want to show you what a chunk size of 100 would look like and so we have a a list of documents again with a page context and this page context is only about a hundred characters long ish or 100 tokens long-ish it's it's uh it's interesting there and so if we were to look at no I don't want to do type I want to do length so if we're to do length of how many texts we have we have 522 and that's because it's taking our entire transcript and it's basically putting it into chunks roughly of a of a hundred if we're to do a thousand for chunks you can see here it's roughly 10 times less which is going to be on the 51. so this is a way to split up your documents and so now we have a whole bunch of documents um that are length of what we set right here but I'm going to set this back to 2000. nice and then what we're going to do is I'm going to call the llm here but I'm going to change the chain type and in fact before we did this I want to I want to show you the issue here um let's do chunk size 2000 and then we're going to do stuff and I'm going to call run and let's do oh I want to do this on text let's do run right here and so the issue is that we have again this is the maximum model length but we've requested all these documents together because when you do chain type equals stuff what you're doing is you're saying the Lang chain hey I want you to take all my documents and stuff them into the prompt that you're feeding open AI now there's a way around this not a way around this but an alternative is if you change the type to mapreduce that is when you're going to start to say hey just give me a summary of all these different documents that you have and then generate me a final summary so if we change it to mapreduce I'm going to go ahead and run this and let's give this a sec because this is going to make multiple API calls because what it's actually doing is it's making a uh it's telling hey open AI I want you to give me a summary of each one of these different documents and you saw how we had quite a uh a few number of documents cool well nice so we just had this long transcript and what we just had is now we have the summary of what this transcript says but I wanted to show you what it this actually looks like underneath the covers of what um Lang chain is doing and so what I'm going to do here is I'm going to set for both equals true which gives you insight as to the calls that laying chain is making the open AI this is going to get kind of confusing so I just want to do the first four documents on here which is you know the first little bit of the video that we loaded and so what we're going to look at here is we're going to look at all right we're doing a mapreduce document chain cool and so the very first call that it's saying to open AI is write me a concise summary of The Following nice so here is the following statement and this is one of the document chunks that we submitted beforehand and then it's saying hey again I want you to write me a concise summary of the following now here's the second document that we wanted it to summarize and then here's the third document and then here's the fourth document now the cool part is what you can see that gets returned is we have four different summaries of four different documents so summary One summary two summary three and summary four and the reason why is because we just wanted to see the first four that we had up here so we have all those summaries and then what it said was is basically write me a concise summary of the following so a summary of the summaries and then what we get is we get this uh summary of the summaries that's right here nice um it's cool now what if you have multiple videos that you want to do well in this case I have a YouTube url list I'm just passing it two different videos I'm going to get a list ready that is going to hold my text for me I'm going to get my uh character splitter ready and I'm going to say hey for URL in this list of URLs I want you to load up the video or get the loader ready I want you to load the video and then I want you to extend this list with the documents that you've split it into so in this case I have two YouTube videos I'm just going to go through both of them right there and then I'm going to call the summarize scan again with mapreduce in this case I don't really want to do verbose equals true because you already saw what that looked like but now what it's doing is it's going through both those videos it's split it splitting them up into separate documents in case that they're in case they're too long and then it's generating a summary for me now these were two videos about two completely different things and so this it starts off with a golf video about how to build a golf course in your backyard so it says cool blah blah looks great and then now it goes into the second summary which is around uh a uh interview between Bella Ramsay and Pedro Pascal about what they were doing so that is how you do uh loading up YouTube videos with a transcript and with the summaries I hope that that was helpful for you please let me know if the diagram was helpful I'm happy to do more videos and as always please leave please leave comments about how we can improve the videos and about your own personal uh business problems that we can help solve I'll see you later\", metadata={'source': 'pNcQ5XXMgH4', 'title': 'LangChain 101: YouTube Transcripts + OpenAI', 'description': 'Unknown', 'view_count': 17764, 'thumbnail_url': 'https://i.ytimg.com/vi/pNcQ5XXMgH4/hqdefault.jpg?sqp=-oaymwEXCJADEOABSFryq4qpAwkIARUAAIhCGAE=&rs=AOn4CLCmP9TXvB4nm22ZX7b5Tl0AagEU3A', 'publish_date': '2023-02-23 00:00:00', 'length': 668, 'author': 'Greg Kamradt (Data Indy)'})]\n"
     ]
    }
   ],
   "source": [
    "print (type(result))\n",
    "print (f\"Found video from {result[0].metadata['author']} that is {result[0].metadata['length']} seconds long\")\n",
    "print(result[0].metadata)\n",
    "print (\"\")\n",
    "print (result)"
   ]
  },
  {
   "cell_type": "code",
   "execution_count": 41,
   "metadata": {},
   "outputs": [],
   "source": [
    "llm = OpenAI(temperature=0, openai_api_key=OPENAI_API_KEY)"
   ]
  },
  {
   "cell_type": "code",
   "execution_count": 43,
   "metadata": {},
   "outputs": [],
   "source": [
    "# Summarize\n",
    "chain = load_summarize_chain(llm, chain_type=\"stuff\", verbose=False)\n",
    "video_summary = chain.run(result)"
   ]
  },
  {
   "cell_type": "code",
   "execution_count": 44,
   "metadata": {},
   "outputs": [
    {
     "data": {
      "text/plain": [
       "' This tutorial explains how to use the Lang Chain library to take YouTube transcripts and pass them to Open AI to generate a summary. It also explains how to use the recursive character splitter to split up long transcripts into smaller chunks, and how to use the mapreduce method to generate a summary of multiple videos. Finally, it explains how to use the summarize scan to generate a summary of multiple videos.'"
      ]
     },
     "execution_count": 44,
     "metadata": {},
     "output_type": "execute_result"
    }
   ],
   "source": [
    "video_summary"
   ]
  },
  {
   "cell_type": "markdown",
   "metadata": {},
   "source": [
    "### 2. Long Video (use map-reduce)\n",
    "\n",
    "    When video is too long, it will not fit into context window. Use map-reduce chain using chanks of transcript"
   ]
  },
  {
   "cell_type": "code",
   "execution_count": 19,
   "metadata": {},
   "outputs": [],
   "source": [
    "from langchain.text_splitter import RecursiveCharacterTextSplitter\n",
    "text_splitter = RecursiveCharacterTextSplitter(chunk_size=1000, chunk_overlap=50)\n",
    "texts = text_splitter.split_documents(result)"
   ]
  },
  {
   "cell_type": "code",
   "execution_count": 20,
   "metadata": {},
   "outputs": [
    {
     "data": {
      "text/plain": [
       "14"
      ]
     },
     "execution_count": 20,
     "metadata": {},
     "output_type": "execute_result"
    }
   ],
   "source": [
    "len(texts)"
   ]
  },
  {
   "cell_type": "code",
   "execution_count": 21,
   "metadata": {},
   "outputs": [
    {
     "name": "stdout",
     "output_type": "stream",
     "text": [
      "\n",
      "\n",
      "\u001b[1m> Entering new MapReduceDocumentsChain chain...\u001b[0m\n",
      "\n",
      "\n",
      "\u001b[1m> Entering new LLMChain chain...\u001b[0m\n",
      "Prompt after formatting:\n",
      "\u001b[32;1m\u001b[1;3mWrite a concise summary of the following:\n",
      "\n",
      "\n",
      "\"what is going on good people again right now we have a super exciting tutorial because we are going to take YouTube transcripts and we're going to pass them to open Ai and the way that we're going to do that is via a library called Lang chain which is what this entire series is about now before we jumped into it I wanted to show a diagram again I think these diagrams are helpful but you have to let me know so just let me know in the comments here so I wanted to do an overview about what we're actually going to be writing out in code because I think it's a little easier to see in pictures first so the way this is going to work is we're going to have a video a YouTube video we're going to pass it we're going to pass it a URL and then what Lang chain is going to help us do is it's going to help us load this video as a document and a document just means you're going to be taking the transcript which is the text of the video and you're going to be loading it as a document which is something\"\n",
      "\n",
      "\n",
      "CONCISE SUMMARY:\u001b[0m\n",
      "Prompt after formatting:\n",
      "\u001b[32;1m\u001b[1;3mWrite a concise summary of the following:\n",
      "\n",
      "\n",
      "\"to be loading it as a document which is something that lane chain can help understand now with that document we're then going to go generate a summary of it and the way that link chain is going to do this is it's going to create a prompt for us that says hey generate me a concise summary of the following text and then it's going insert the transcript of the YouTube video which is pretty sweet and this is going to happen in open Ai and this is going to happen to be an API call and then what we get out the other end is open AI is going to tell us hey this video is about XYZ now an interesting part about this and where it gets kind of confusing is well what happens if your video is too long oh no our video two is too long we can't pass this because say you're looking at a YouTube video and it's like an hour long well you can't pass all that transcript into open AI because they have a token limit and this is where a lot of the ergonomics of Lang chain really come to help out here now what\"\n",
      "\n",
      "\n",
      "CONCISE SUMMARY:\u001b[0m\n",
      "Prompt after formatting:\n",
      "\u001b[32;1m\u001b[1;3mWrite a concise summary of the following:\n",
      "\n",
      "\n",
      "\"Lang chain really come to help out here now what we're going to do is we're actually going to split up that text so we're going to still see that it's from video two but we're going to have our document one document two document three and then what Lang chain is going to help us do is it's going to go to open Ai and it's going to say hey I want you to generate a summary for me of document one generate of document 2 generate of document three now the cool part about this is that this is all under the hood the cool part is then what it's going to do is it's going to say hey please generate me a summary of these summaries and then all of a sudden open AI is going to give us a summary of the summaries and the conclusion you get with the video is all the way about now this is one method of kind of combining documents like this and this is called the map reduce method but we'll get into that in a second when we talk about the different chain types all right that's enough diagrams let's look\"\n",
      "\n",
      "\n",
      "CONCISE SUMMARY:\u001b[0m\n",
      "Prompt after formatting:\n",
      "\u001b[32;1m\u001b[1;3mWrite a concise summary of the following:\n",
      "\n",
      "\n",
      "\"types all right that's enough diagrams let's look at some code here all right now that we're looking at some code here our first import statements uh this the star of the show here is going to be the YouTube loader this is going to be the tool that is going to help us do this we're going to uh import open Ai and we're going to import load summarize chain because this is going to be the chain that's going to help summarize for us so let's go ahead and run those I also had to install YouTube's transcripts API and then also pytube as well in case you uh run on that same problem so with the YouTube loader we're going to call Dot from YouTube URL and we are going to pass it a single YouTube url here and what that'll do is we're going to store that in a loader so to get it ready and kind of stage it and then we're actually going to call Dot load on it which is going to do the loading for us and I wanted to print this out and show you what we have here so if we have if we look at this result\"\n",
      "\n",
      "\n",
      "CONCISE SUMMARY:\u001b[0m\n",
      "Prompt after formatting:\n",
      "\u001b[32;1m\u001b[1;3mWrite a concise summary of the following:\n",
      "\n",
      "\n",
      "\"have here so if we have if we look at this result you can see that the result is a list of items it's very important we'll talk about this in a second year and then we just have some metadata on it but it is going to be a list of documents and these are the things that lane chain can help understand and can process for us and in this document you can see here that there's a page context which is going to be the transcript that is from this video and then we also have some interesting metadata too about the video itself but I'm going to go ahead and close this here we're going to uh instantially oh I want I need to load the open AI key we're going to initialize our large language model which is going to be the open AI one and then we're going to call load summarize chain we're going to pass it our model we're going to say chain type equals stuff important here we're going to talk about why this is changing later we're going to say verbose equals false because we don't want to see\"\n",
      "\n",
      "\n",
      "CONCISE SUMMARY:\u001b[0m\n",
      "Prompt after formatting:\n",
      "\u001b[32;1m\u001b[1;3mWrite a concise summary of the following:\n",
      "\n",
      "\n",
      "\"verbose equals false because we don't want to see anything and then we're going to pass it the result that we loaded in which is the the document or the list of documents that we had let's go ahead and run this and then all of a sudden we get cool Pedro Pascal shared his experiences shooting HBO's Last of Us awesome so just based off the transcript it has a some summary of the YouTube video for us nice but what if you have a long video so I wanted to show you this one here we have another YouTube video which is going to be a podcast of my first million on here we hear some Sean talk and you can see that it is going to be almost 60 Minutes long and this is quite long and spoiler alert it's too long for open AI uh for the token limit that they have so let me show you this though we're going to load this in we're going to load the result you can see it takes a little bit and then we're going to say load summarize chain okay cool with chain type equals stuff and we're going to run this\"\n",
      "\n",
      "\n",
      "CONCISE SUMMARY:\u001b[0m\n",
      "Prompt after formatting:\n",
      "\u001b[32;1m\u001b[1;3mWrite a concise summary of the following:\n",
      "\n",
      "\n",
      "\"type equals stuff and we're going to run this result here and then oh no we have an error it's trying to do something up here and it says this model's maximum context is uh 4097 tokens you've requested almost fifteen thousand and that's no good because that's too long so in the old days before Lang chain what we'd have to do here is we'd have to figure out some way to either run multiple pieces ourselves manually copy and paste it'd be a freaking mess we don't want to do any of that stuff so the problem is your transcript or your document is too long now what we're going to do here is we're actually going to split up that document which is what we saw earlier on the diagram and so I'm going to load in the recursive character splitter and I'm going to get this loaded here and I'm just going to set a chunk size of 2000. you can play with this it might be different for your use case whatever you want but if you're not getting what you need try switching this variable if you want some\"\n",
      "\n",
      "\n",
      "CONCISE SUMMARY:\u001b[0m\n",
      "Prompt after formatting:\n",
      "\u001b[32;1m\u001b[1;3mWrite a concise summary of the following:\n",
      "\n",
      "\n",
      "\"need try switching this variable if you want some help there I'm going to load up that text footer and now what I'm going to do is I'm going to load in that single YouTube video into the text splitter and what it's going to do for me is actually I want to show you this here uh text and so let's let's first check out the type of text it is going to be a list okay cool let's see what it's a list of and you can see here it's a list of documents and this page context is still quite long but it's we're aiming for a chunk size of about 2 000. I just want to show you what a chunk size of 100 would look like and so we have a a list of documents again with a page context and this page context is only about a hundred characters long ish or 100 tokens long-ish it's it's uh it's interesting there and so if we were to look at no I don't want to do type I want to do length so if we're to do length of how many texts we have we have 522 and that's because it's taking our entire transcript and it's\"\n",
      "\n",
      "\n",
      "CONCISE SUMMARY:\u001b[0m\n",
      "Prompt after formatting:\n",
      "\u001b[32;1m\u001b[1;3mWrite a concise summary of the following:\n",
      "\n",
      "\n",
      "\"it's taking our entire transcript and it's basically putting it into chunks roughly of a of a hundred if we're to do a thousand for chunks you can see here it's roughly 10 times less which is going to be on the 51. so this is a way to split up your documents and so now we have a whole bunch of documents um that are length of what we set right here but I'm going to set this back to 2000. nice and then what we're going to do is I'm going to call the llm here but I'm going to change the chain type and in fact before we did this I want to I want to show you the issue here um let's do chunk size 2000 and then we're going to do stuff and I'm going to call run and let's do oh I want to do this on text let's do run right here and so the issue is that we have again this is the maximum model length but we've requested all these documents together because when you do chain type equals stuff what you're doing is you're saying the Lang chain hey I want you to take all my documents and stuff them\"\n",
      "\n",
      "\n",
      "CONCISE SUMMARY:\u001b[0m\n",
      "Prompt after formatting:\n",
      "\u001b[32;1m\u001b[1;3mWrite a concise summary of the following:\n",
      "\n",
      "\n",
      "\"want you to take all my documents and stuff them into the prompt that you're feeding open AI now there's a way around this not a way around this but an alternative is if you change the type to mapreduce that is when you're going to start to say hey just give me a summary of all these different documents that you have and then generate me a final summary so if we change it to mapreduce I'm going to go ahead and run this and let's give this a sec because this is going to make multiple API calls because what it's actually doing is it's making a uh it's telling hey open AI I want you to give me a summary of each one of these different documents and you saw how we had quite a uh a few number of documents cool well nice so we just had this long transcript and what we just had is now we have the summary of what this transcript says but I wanted to show you what it this actually looks like underneath the covers of what um Lang chain is doing and so what I'm going to do here is I'm going to\"\n",
      "\n",
      "\n",
      "CONCISE SUMMARY:\u001b[0m\n",
      "Prompt after formatting:\n",
      "\u001b[32;1m\u001b[1;3mWrite a concise summary of the following:\n",
      "\n",
      "\n",
      "\"and so what I'm going to do here is I'm going to set for both equals true which gives you insight as to the calls that laying chain is making the open AI this is going to get kind of confusing so I just want to do the first four documents on here which is you know the first little bit of the video that we loaded and so what we're going to look at here is we're going to look at all right we're doing a mapreduce document chain cool and so the very first call that it's saying to open AI is write me a concise summary of The Following nice so here is the following statement and this is one of the document chunks that we submitted beforehand and then it's saying hey again I want you to write me a concise summary of the following now here's the second document that we wanted it to summarize and then here's the third document and then here's the fourth document now the cool part is what you can see that gets returned is we have four different summaries of four different documents so summary\"\n",
      "\n",
      "\n",
      "CONCISE SUMMARY:\u001b[0m\n",
      "Prompt after formatting:\n",
      "\u001b[32;1m\u001b[1;3mWrite a concise summary of the following:\n",
      "\n",
      "\n",
      "\"summaries of four different documents so summary One summary two summary three and summary four and the reason why is because we just wanted to see the first four that we had up here so we have all those summaries and then what it said was is basically write me a concise summary of the following so a summary of the summaries and then what we get is we get this uh summary of the summaries that's right here nice um it's cool now what if you have multiple videos that you want to do well in this case I have a YouTube url list I'm just passing it two different videos I'm going to get a list ready that is going to hold my text for me I'm going to get my uh character splitter ready and I'm going to say hey for URL in this list of URLs I want you to load up the video or get the loader ready I want you to load the video and then I want you to extend this list with the documents that you've split it into so in this case I have two YouTube videos I'm just going to go through both of them right\"\n",
      "\n",
      "\n",
      "CONCISE SUMMARY:\u001b[0m\n",
      "Prompt after formatting:\n",
      "\u001b[32;1m\u001b[1;3mWrite a concise summary of the following:\n",
      "\n",
      "\n",
      "\"I'm just going to go through both of them right there and then I'm going to call the summarize scan again with mapreduce in this case I don't really want to do verbose equals true because you already saw what that looked like but now what it's doing is it's going through both those videos it's split it splitting them up into separate documents in case that they're in case they're too long and then it's generating a summary for me now these were two videos about two completely different things and so this it starts off with a golf video about how to build a golf course in your backyard so it says cool blah blah looks great and then now it goes into the second summary which is around uh a uh interview between Bella Ramsay and Pedro Pascal about what they were doing so that is how you do uh loading up YouTube videos with a transcript and with the summaries I hope that that was helpful for you please let me know if the diagram was helpful I'm happy to do more videos and as always please\"\n",
      "\n",
      "\n",
      "CONCISE SUMMARY:\u001b[0m\n",
      "Prompt after formatting:\n",
      "\u001b[32;1m\u001b[1;3mWrite a concise summary of the following:\n",
      "\n",
      "\n",
      "\"I'm happy to do more videos and as always please leave please leave comments about how we can improve the videos and about your own personal uh business problems that we can help solve I'll see you later\"\n",
      "\n",
      "\n",
      "CONCISE SUMMARY:\u001b[0m\n",
      "\n",
      "\u001b[1m> Finished chain.\u001b[0m\n",
      "\n",
      "\n",
      "\u001b[1m> Entering new LLMChain chain...\u001b[0m\n",
      "Prompt after formatting:\n",
      "\u001b[32;1m\u001b[1;3mWrite a concise summary of the following:\n",
      "\n",
      "\n",
      "\" In this tutorial, we will be using the Lang Chain library to take YouTube transcripts and pass them to Open AI. We will be using a diagram to help visualize the code we will be writing. We will be taking a YouTube video URL and loading the transcript as a document.\n",
      "\n",
      " Lang Chain is a tool that can help generate a summary of a document by creating a prompt and using Open AI to generate a summary. It is useful for summarizing long documents, such as YouTube videos, as it has a token limit. Lang Chain's ergonomics help to make this process easier.\n",
      "\n",
      " Lang chain is a tool that can be used to split up text and generate summaries of documents. It uses Open AI to generate a summary of the summaries, which is called the map reduce method. This is one method of combining documents.\n",
      "\n",
      " This code is using the YouTube Loader to import OpenAI and Load Summarize Chain to help summarize a single YouTube URL. It also requires the installation of YouTube's Transcripts API and PyTube. The code will store the URL in a loader, and then call .load on it to do the loading. The result of this will be printed out.\n",
      "\n",
      " This result is a list of documents that can be processed by Lane Chain. It includes page context from a video and metadata about the video. The Open AI key is loaded and a large language model is initialized. The summarize chain is called and the chain type is set to \"stuff important\" and verbose is set to false.\n",
      "\n",
      " This article discusses how to use Open AI to summarize a YouTube video. It explains how to set verbose to false and pass the result of the loaded document. It then provides an example of a long video and how to use the summarize chain to summarize it.\n",
      "\n",
      " This text discusses a problem with a model's maximum context being too long for a given document. To solve this problem, the document must be split up into smaller chunks. The chunk size can be adjusted depending on the use case.\n",
      "\n",
      " This text is about loading a YouTube video into a text splitter and seeing what a chunk size of 100 would look like. The page context is about 100 characters long and the length of the text is 522.\n",
      "\n",
      " This is a process of splitting up a transcript into chunks of roughly 100 words. The chunk size can be adjusted to 2000 words. The process involves calling the Lang chain and setting the chain type to \"stuff\" which will take all the documents and stuff them together.\n",
      "\n",
      " This text explains how to use Open AI to generate a summary of multiple documents by changing the type to mapreduce. It also shows what the process looks like underneath the covers of Lang Chain.\n",
      "\n",
      " This statement explains how to use Open AI to create a mapreduce document chain. It will take four documents and return four different summaries of each document.\n",
      "\n",
      " This text describes a process for summarizing multiple videos by creating a list of URLs, loading the videos, and splitting the documents into summaries. The summaries are then combined into one concise summary.\n",
      "\n",
      " This video explains how to use mapreduce to generate summaries for two different videos. The first video is about building a golf course in your backyard, and the second is an interview between Bella Ramsay and Pedro Pascal. The video also provides a diagram to help viewers understand the process.\n",
      "\n",
      " The speaker is offering to do more videos and encourages viewers to leave comments about how the videos can be improved and about their own business problems that the speaker can help solve.\"\n",
      "\n",
      "\n",
      "CONCISE SUMMARY:\u001b[0m\n",
      "\n",
      "\u001b[1m> Finished chain.\u001b[0m\n",
      "\n",
      "\u001b[1m> Finished chain.\u001b[0m\n"
     ]
    },
    {
     "data": {
      "text/plain": [
       "' This tutorial explains how to use Open AI and Lang Chain to generate summaries of multiple documents, such as YouTube videos. It provides a diagram to help visualize the code and explains how to use the mapreduce method to combine documents into one concise summary. The speaker also encourages viewers to leave comments about how the videos can be improved and about their own business problems.'"
      ]
     },
     "execution_count": 21,
     "metadata": {},
     "output_type": "execute_result"
    }
   ],
   "source": [
    "#print(texts)\n",
    "chain = load_summarize_chain(llm, chain_type=\"map_reduce\", verbose=True)\n",
    "chain.run(texts)"
   ]
  },
  {
   "cell_type": "markdown",
   "metadata": {},
   "source": [
    "### 3. Multiple Videos"
   ]
  },
  {
   "cell_type": "code",
   "execution_count": 22,
   "metadata": {},
   "outputs": [],
   "source": [
    "youtube_url_list = [\"https://www.youtube.com/watch?v=UfL7hqGBLAQ\", \"https://www.youtube.com/watch?v=9z7p28FhoEc\"]\n",
    "\n",
    "texts = []\n",
    "\n",
    "text_splitter = RecursiveCharacterTextSplitter(chunk_size=2000, chunk_overlap=0)\n",
    "\n",
    "for url in youtube_url_list:\n",
    "    loader = YoutubeLoader.from_youtube_url(url, add_video_info=True)\n",
    "    result = loader.load()\n",
    "    \n",
    "    texts.extend(text_splitter.split_documents(result))"
   ]
  },
  {
   "cell_type": "code",
   "execution_count": 24,
   "metadata": {},
   "outputs": [
    {
     "data": {
      "text/plain": [
       "\" Congressman Elise Stefanik of New York's 21st Congressional District is supportive of the impeachment inquiry into President Biden and is committed to helping re-elect President Trump in 2024. A search and rescue operation is underway in Morocco following a devastating earthquake that killed 2,900 people and left hundreds of thousands homeless. International search and rescue teams have been invited by the Moroccan military to the town of Amiz, and volunteers, family, friends, local charities, and NOS are helping people in the mountains. There has been criticism that other international agencies and countries have not been able to get into Morocco.\""
      ]
     },
     "execution_count": 24,
     "metadata": {},
     "output_type": "execute_result"
    }
   ],
   "source": [
    "chain = load_summarize_chain(llm, chain_type=\"map_reduce\", verbose=False)\n",
    "chain.run(texts)"
   ]
  },
  {
   "cell_type": "markdown",
   "metadata": {},
   "source": [
    "### 4. Extract topic title & Short Description"
   ]
  },
  {
   "cell_type": "code",
   "execution_count": 25,
   "metadata": {},
   "outputs": [
    {
     "data": {
      "text/plain": [
       "True"
      ]
     },
     "execution_count": 25,
     "metadata": {},
     "output_type": "execute_result"
    }
   ],
   "source": [
    "# LangChain basics\n",
    "from langchain.chat_models import ChatOpenAI\n",
    "from langchain.text_splitter import RecursiveCharacterTextSplitter\n",
    "from langchain.chains.summarize import load_summarize_chain\n",
    "from langchain.chains import create_extraction_chain\n",
    "\n",
    "# Vector Store and retrievals\n",
    "from langchain.embeddings.openai import OpenAIEmbeddings\n",
    "from langchain.chains import RetrievalQA\n",
    "#from langchain.vectorstores import Pinecone\n",
    "#import pinecone\n",
    "\n",
    "# Chat Prompt templates for dynamic values\n",
    "from langchain.prompts.chat import (\n",
    "    ChatPromptTemplate,\n",
    "    SystemMessagePromptTemplate,\n",
    "    HumanMessagePromptTemplate\n",
    ")\n",
    "\n",
    "# Supporting libraries\n",
    "import os\n",
    "from dotenv import load_dotenv\n",
    "\n",
    "load_dotenv()"
   ]
  },
  {
   "cell_type": "markdown",
   "metadata": {},
   "source": [
    "Let's start with our map prompt which will iterate over the chunks we just made"
   ]
  },
  {
   "cell_type": "code",
   "execution_count": 26,
   "metadata": {},
   "outputs": [],
   "source": [
    "template=\"\"\"\n",
    "You are a helpful assistant that helps retrieve topics talked about in a podcast transcript\n",
    "- Your goal is to extract the topic names and brief 1-sentence description of the topic\n",
    "- Topics include:\n",
    "  - Themes\n",
    "  - Business Ideas\n",
    "  - Interesting Stories\n",
    "  - Money making businesses\n",
    "  - Quick stories about people\n",
    "  - Mental Frameworks\n",
    "  - Stories about an industry\n",
    "  - Analogies mentioned\n",
    "  - Advice or words of caution\n",
    "  - Pieces of news or current events\n",
    "- Provide a brief description of the topics after the topic name. Example: 'Topic: Brief Description'\n",
    "- Use the same words and terminology that is said in the podcast\n",
    "- Do not respond with anything outside of the podcast. If you don't see any topics, say, 'No Topics'\n",
    "- Do not respond with numbers, just bullet points\n",
    "- Do not include anything about 'Marketing Against the Grain'\n",
    "- Only pull topics from the transcript. Do not use the examples\n",
    "- Make your titles descriptive but concise. Example: 'Shaan's Experience at Twitch' should be 'Shaan's Interesting Projects At Twitch'\n",
    "- A topic should be substantial, more than just a one-off comment\n",
    "\n",
    "% START OF EXAMPLES\n",
    " - Sam's Elisabeth Murdoch Story: Sam got a call from Elizabeth Murdoch when he had just launched The Hustle. She wanted to generate video content.\n",
    " - Shaan's Rupert Murdoch Story: When Shaan was running Blab he was invited to an event organized by Rupert Murdoch during CES in Las Vegas.\n",
    " - Revenge Against The Spam Calls: A couple of businesses focused on protecting consumers: RoboCall, TrueCaller, DoNotPay, FitIt\n",
    " - Wildcard CEOs vs. Prudent CEOs: However, Munger likes to surround himself with prudent CEO's and says he would never hire Musk.\n",
    " - Chess Business: Priyav, a college student, expressed his doubts on the MFM Facebook group about his Chess training business, mychesstutor.com, making $12.5K MRR with 90 enrolled.\n",
    " - Restaurant Refiller: An MFM Facebook group member commented on how they pay AirMark $1,000/month for toilet paper and toilet cover refills for their restaurant. Shaan sees an opportunity here for anyone wanting to compete against AirMark.\n",
    " - Collecting: Shaan shared an idea to build a mobile only marketplace for a collectors' category; similar to what StockX does for premium sneakers.\n",
    "% END OF EXAMPLES\n",
    "\"\"\"\n",
    "system_message_prompt_map = SystemMessagePromptTemplate.from_template(template)\n",
    "\n",
    "human_template=\"Transcript: {text}\" # Simply just pass the text as a human message\n",
    "human_message_prompt_map = HumanMessagePromptTemplate.from_template(human_template)\n",
    "\n",
    "chat_prompt_map = ChatPromptTemplate.from_messages(messages=[system_message_prompt_map, human_message_prompt_map])"
   ]
  },
  {
   "cell_type": "markdown",
   "metadata": {},
   "source": [
    "Then we have our combine prompt which will run once over the results of the map prompt above"
   ]
  },
  {
   "cell_type": "code",
   "execution_count": 29,
   "metadata": {},
   "outputs": [],
   "source": [
    "template=\"\"\"\n",
    "You are a helpful assistant that helps retrieve topics talked about in a podcast transcript\n",
    "- You will be given a series of bullet topics of topics vound\n",
    "- Your goal is to exract the topic names and brief 1-sentence description of the topic\n",
    "- Deduplicate any bullet points you see\n",
    "- Only pull topics from the transcript. Do not use the examples\n",
    "\n",
    "% START OF EXAMPLES\n",
    " - Sam's Elisabeth Murdoch Story: Sam got a call from Elizabeth Murdoch when he had just launched The Hustle. She wanted to generate video content.\n",
    " - Shaan's Rupert Murdoch Story: When Shaan was running Blab he was invited to an event organized by Rupert Murdoch during CES in Las Vegas.\n",
    "% END OF EXAMPLES\n",
    "\"\"\"\n",
    "system_message_prompt_map = SystemMessagePromptTemplate.from_template(template)\n",
    "\n",
    "human_template=\"Transcript: {text}\" # Simply just pass the text as a human message\n",
    "human_message_prompt_map = HumanMessagePromptTemplate.from_template(human_template)\n",
    "\n",
    "chat_prompt_combine = ChatPromptTemplate.from_messages(messages=[system_message_prompt_map, human_message_prompt_map])"
   ]
  },
  {
   "cell_type": "markdown",
   "metadata": {},
   "source": [
    "Create your LLMs and get data"
   ]
  },
  {
   "cell_type": "code",
   "execution_count": 27,
   "metadata": {},
   "outputs": [],
   "source": [
    "# Creating two versions of the model so I can swap between gpt3.5 and gpt4\n",
    "llm3 = ChatOpenAI(temperature=0,\n",
    "                  model_name=\"gpt-3.5-turbo-0613\",\n",
    "                  request_timeout = 180\n",
    "                )\n",
    "\n",
    "llm4 = ChatOpenAI(temperature=0,\n",
    "                  model_name=\"gpt-4-0613\",\n",
    "                  request_timeout = 180\n",
    "                 )"
   ]
  },
  {
   "cell_type": "code",
   "execution_count": 28,
   "metadata": {},
   "outputs": [
    {
     "name": "stdout",
     "output_type": "stream",
     "text": [
      "You have 6 docs. First doc is 582 tokens\n"
     ]
    }
   ],
   "source": [
    "# Use YT transcript\n",
    "print (f\"You have {len(texts)} docs. First doc is {llm3.get_num_tokens(texts[0].page_content)} tokens\")"
   ]
  },
  {
   "cell_type": "markdown",
   "metadata": {},
   "source": [
    "Store YouTube transcripts in Chroma to later use for retrival"
   ]
  },
  {
   "cell_type": "code",
   "execution_count": null,
   "metadata": {},
   "outputs": [],
   "source": [
    "from langchain.vectorstores import Chroma\n",
    "import chromadb\n",
    "\n",
    "client = chromadb.HttpClient(host=\"20.115.73.2\", port=8000)\n",
    "\n"
   ]
  },
  {
   "cell_type": "markdown",
   "metadata": {},
   "source": [
    "#### Step 1: Extract topic title and Description"
   ]
  },
  {
   "cell_type": "code",
   "execution_count": 30,
   "metadata": {},
   "outputs": [],
   "source": [
    "chain = load_summarize_chain(llm4,\n",
    "                             chain_type=\"map_reduce\",\n",
    "                             map_prompt=chat_prompt_map,\n",
    "                             combine_prompt=chat_prompt_combine,\n",
    "                             verbose=True\n",
    "                            )"
   ]
  },
  {
   "cell_type": "code",
   "execution_count": 32,
   "metadata": {},
   "outputs": [
    {
     "name": "stdout",
     "output_type": "stream",
     "text": [
      "\n",
      "\n",
      "\u001b[1m> Entering new MapReduceDocumentsChain chain...\u001b[0m\n",
      "\n",
      "\n",
      "\u001b[1m> Entering new LLMChain chain...\u001b[0m\n",
      "Prompt after formatting:\n",
      "\u001b[32;1m\u001b[1;3mSystem: \n",
      "You are a helpful assistant that helps retrieve topics talked about in a podcast transcript\n",
      "- Your goal is to extract the topic names and brief 1-sentence description of the topic\n",
      "- Topics include:\n",
      "  - Themes\n",
      "  - Business Ideas\n",
      "  - Interesting Stories\n",
      "  - Money making businesses\n",
      "  - Quick stories about people\n",
      "  - Mental Frameworks\n",
      "  - Stories about an industry\n",
      "  - Analogies mentioned\n",
      "  - Advice or words of caution\n",
      "  - Pieces of news or current events\n",
      "- Provide a brief description of the topics after the topic name. Example: 'Topic: Brief Description'\n",
      "- Use the same words and terminology that is said in the podcast\n",
      "- Do not respond with anything outside of the podcast. If you don't see any topics, say, 'No Topics'\n",
      "- Do not respond with numbers, just bullet points\n",
      "- Do not include anything about 'Marketing Against the Grain'\n",
      "- Only pull topics from the transcript. Do not use the examples\n",
      "- Make your titles descriptive but concise. Example: 'Shaan's Experience at Twitch' should be 'Shaan's Interesting Projects At Twitch'\n",
      "- A topic should be substantial, more than just a one-off comment\n",
      "\n",
      "% START OF EXAMPLES\n",
      " - Sam's Elisabeth Murdoch Story: Sam got a call from Elizabeth Murdoch when he had just launched The Hustle. She wanted to generate video content.\n",
      " - Shaan's Rupert Murdoch Story: When Shaan was running Blab he was invited to an event organized by Rupert Murdoch during CES in Las Vegas.\n",
      " - Revenge Against The Spam Calls: A couple of businesses focused on protecting consumers: RoboCall, TrueCaller, DoNotPay, FitIt\n",
      " - Wildcard CEOs vs. Prudent CEOs: However, Munger likes to surround himself with prudent CEO's and says he would never hire Musk.\n",
      " - Chess Business: Priyav, a college student, expressed his doubts on the MFM Facebook group about his Chess training business, mychesstutor.com, making $12.5K MRR with 90 enrolled.\n",
      " - Restaurant Refiller: An MFM Facebook group member commented on how they pay AirMark $1,000/month for toilet paper and toilet cover refills for their restaurant. Shaan sees an opportunity here for anyone wanting to compete against AirMark.\n",
      " - Collecting: Shaan shared an idea to build a mobile only marketplace for a collectors' category; similar to what StockX does for premium sneakers.\n",
      "% END OF EXAMPLES\n",
      "\n",
      "Human: Transcript: # # FOR THE FIRST TIME SINCE ANNOUNCING AN IMPEACHMENT INQUIRY INTO PRESIDENT BIDEN OVER HIS ALLEGED INVOLVEMENT WITH HUNTER'S BUSINESS DEALINGS WHICH HE SAID AT ONE POINT HE HAD NOTHING TO DO WITH WHICH WE KNOW THAT'S NOT TRUE. LET'S BRING IN REPUBLICAN CONFERENCE CHAIR ELISE CERTIFY THAN NIC. GOOD TO SEE YOU, CONGRESSWOMAN. YOU WERE ON THE SAME PAGE AS KEVIN McCARTHY THE SPEAKER WITH THAT MOVE YESTERDAY? >> YES, ABSOLUTELY. I HAVE BEEN SUPPORTIVE OF THE IMPEACHMENT INQUIRY GOING BACK TO JULY, BRIAN. IT'S IMPORTANT TO LOOK AT WHERE WE ARE TODAY AND THE FACT WE HAVE UNCOVERED. SINCE THE START OF THIS YEAR HOUSE REPUBLICANS UNCOVERED OVER 20 LLCs USED BY THE BIDEN FAMILY. WE ALSO UNCOVERED OVER $20 MILLION WHILE THEN VICE PRESIDENT JOE BIDEN. THAT $20 MILLION FROM CHINA, RUSSIA, UKRAINE, ROMANIA, GOING INTO THE BIDEN FAMILY. WE AO KNOW THAT ACCORDING TO VERY RELIABLE CONFIDENTIAL HUMAN SOURCES THAT HAS WORKED FOR DECADES WITH THE FBI THAT THERE WAS A BRIBERY SCHEME WHEN IT CAME TO BURISMA AND THE OBAMA ADMINISTRATION'S POLICY FOR UKRAINE. SO THIS IS WHAT I BELIEVE WILL BE THE LARGEST POLITICAL CORRUPTION SCANDAL IN OUR LIFETIME AND POTENTIALLY IN THE HISTORY OF THE COUNTRY. THE AMERICAN PEOPLE DESERVING ALL THE FACTS AND TRANSPARENCY. THAT'S WHY WE ARE MAKING SURE THAT WE ARE PURSUING IMPEACHMENT INQUIRY. >> Brian: SO ANDY McCARTHY WRITES TODAY:  WITHOUT A VOTE YOU ARE JUST RENAMING THE COMER/JORDAN INVESTIGATIONS IS THAT TRUE? >> THE IMPEACHMENT INQUIRY IS AN IMPORTANT STEP IN THE SENSE THAT IT ENSURES THAT CONGRESS APEX WHEN IT COMES TO DEPOSITION, SUBPOENA. WE KNOW THAT THE BIDEN ADMINISTRATION AND THE DEPARTMENT OF JUSTICE ARE GOING TO FIGHT THIS TOOTH AND NAIL BECAUSE THEY DON'T WANT THE TRUTH AND THE FACT THAT COME OUT TO THE AMERICAN PEOPLE. BUT THE IMPEACHMENT INQUIRY GIVES US THE MOST POWER CONSTITUTIONALLY IN COURT. AND I THINK THAT'S VERY IMPORTANT. >> AND REGARDLESS OF IF YOU ARE REPUBLICAN, DEMOCRAT, OR INDEPENDENT, THE TRANSPARENCY IS KEY HERE. THE\u001b[0m\n",
      "Prompt after formatting:\n",
      "\u001b[32;1m\u001b[1;3mSystem: \n",
      "You are a helpful assistant that helps retrieve topics talked about in a podcast transcript\n",
      "- Your goal is to extract the topic names and brief 1-sentence description of the topic\n",
      "- Topics include:\n",
      "  - Themes\n",
      "  - Business Ideas\n",
      "  - Interesting Stories\n",
      "  - Money making businesses\n",
      "  - Quick stories about people\n",
      "  - Mental Frameworks\n",
      "  - Stories about an industry\n",
      "  - Analogies mentioned\n",
      "  - Advice or words of caution\n",
      "  - Pieces of news or current events\n",
      "- Provide a brief description of the topics after the topic name. Example: 'Topic: Brief Description'\n",
      "- Use the same words and terminology that is said in the podcast\n",
      "- Do not respond with anything outside of the podcast. If you don't see any topics, say, 'No Topics'\n",
      "- Do not respond with numbers, just bullet points\n",
      "- Do not include anything about 'Marketing Against the Grain'\n",
      "- Only pull topics from the transcript. Do not use the examples\n",
      "- Make your titles descriptive but concise. Example: 'Shaan's Experience at Twitch' should be 'Shaan's Interesting Projects At Twitch'\n",
      "- A topic should be substantial, more than just a one-off comment\n",
      "\n",
      "% START OF EXAMPLES\n",
      " - Sam's Elisabeth Murdoch Story: Sam got a call from Elizabeth Murdoch when he had just launched The Hustle. She wanted to generate video content.\n",
      " - Shaan's Rupert Murdoch Story: When Shaan was running Blab he was invited to an event organized by Rupert Murdoch during CES in Las Vegas.\n",
      " - Revenge Against The Spam Calls: A couple of businesses focused on protecting consumers: RoboCall, TrueCaller, DoNotPay, FitIt\n",
      " - Wildcard CEOs vs. Prudent CEOs: However, Munger likes to surround himself with prudent CEO's and says he would never hire Musk.\n",
      " - Chess Business: Priyav, a college student, expressed his doubts on the MFM Facebook group about his Chess training business, mychesstutor.com, making $12.5K MRR with 90 enrolled.\n",
      " - Restaurant Refiller: An MFM Facebook group member commented on how they pay AirMark $1,000/month for toilet paper and toilet cover refills for their restaurant. Shaan sees an opportunity here for anyone wanting to compete against AirMark.\n",
      " - Collecting: Shaan shared an idea to build a mobile only marketplace for a collectors' category; similar to what StockX does for premium sneakers.\n",
      "% END OF EXAMPLES\n",
      "\n",
      "Human: Transcript: AMERICAN PEOPLE DESERVE TO KNOW. THE BRIBERY SCHEME AND THE ILLEGAL ACTS AND THE CORRUPTION AT THE HIGHEST LEVEL OF OUR GOVERNMENT. >> Brian: GOING TO BE INTERESTING TO SEE WHERE THIS GOES FROM HERE. DO YOU BELIEVE WENT TO A VOTE NOT TOO MANY ON THE SAME PAGE WITH ONLY FIVE OR SIX SEATS YOU PROBABLY WOULDN'T PASS THIS? >> WELL, BRIAN, EVERY WEEK THE MEDIA UNDER ESTIMATES THIS. I THINK THE MORE AND MORE OUR MEMBERS SEE THE FACTS, THAT THEY SEE INFORMATION THAT HAS BEEN GATHERED BY THE OVERSIGHT COMMITTEE UNDER CHAIRMAN JAMIE COME MEMBER'S LEADERSHIP THAT THEY SEE THE OVER 150 SUSPICIOUS FINANCIAL TRANSACTIONS, AS FLAGGED BY THE DEPARTMENT OF TREASURY, I THINK EVERY MEMBER, CERTAINLY IN THE REPUBLICAN CONFERENCE, IS GOING TO LOOK AT THOSE FACTS IN A VERY STUDIOUS WAY AND SAY THAT IT'S IMPORTANT TO BE TRANSPARENT FOR THE AMERICAN PEOPLE. >> Brian: I KNOW DONALD TRUMP TALKS TO KEVIN McCARTHY AND LEADERSHIP LIKE YOURSELF PRETTY FREQUENTLY AND MANY TALK ABOUT THE CHEMISTRY YOU A TWO AND AND THE RESPECT YOU HAVE FOR EACH OTHER. WOULD YOU EXPECT DONALD TRUMP TO AT THE VERY MINIMUM INTERVIEW YOU SHOULD HE HOLD ONTO THE LEAD HE HAS AND GET THE NOMINATION AS A POSSIBLE RUNNING MATE? >> WELL, THAT'S REALLY KIND OF YOU TO ASK, BRIAN, I'M FOCUSED ON DOING MY JOB, SERVING THE PEOPLE OF NEW YORK'S 21st CONGRESSIONAL DISTRICT. I'M GOING TO WORK VERY HARD TO MAKE SURE WE SAVE THIS COUNTRY, THAT MEANS ELECTING PRESIDENT TRUMP IN 2024. I WOULD BE HONORED TO SERVE IN A TRUMP ADMINISTRATION. WE HAVE SO MUCH WORK AHEAD OF US IN THE NEXT YEAR AND A HALF, AND I WILL DO EVERYTHING AND CAMPAIGN WITH THE PRESIDENT AND I THINK ANY REPUBLICAN WOULD BE HONORED TO SERVE WITH HIM IN THE NEXT ADMINISTRATION. >> Brian: VERY INTERESTING ANSWER. LASTLY, IN NEW YORK, WHICH IS A NATIONAL ISSUE, THE GOVERNOR IS LOOKING TO FIND A PROVISION THAT ALLOWS OUR 65,000 MINIMUM ILLEGAL IMMIGRANTS LIVING AMONGST US WHO REALLY DON'T BELONG HERE, A RIGHT TO WORK. WOULD YOU BE IN SUPPORT OF THAT OR WOULD THAT BE AN\u001b[0m\n",
      "Prompt after formatting:\n",
      "\u001b[32;1m\u001b[1;3mSystem: \n",
      "You are a helpful assistant that helps retrieve topics talked about in a podcast transcript\n",
      "- Your goal is to extract the topic names and brief 1-sentence description of the topic\n",
      "- Topics include:\n",
      "  - Themes\n",
      "  - Business Ideas\n",
      "  - Interesting Stories\n",
      "  - Money making businesses\n",
      "  - Quick stories about people\n",
      "  - Mental Frameworks\n",
      "  - Stories about an industry\n",
      "  - Analogies mentioned\n",
      "  - Advice or words of caution\n",
      "  - Pieces of news or current events\n",
      "- Provide a brief description of the topics after the topic name. Example: 'Topic: Brief Description'\n",
      "- Use the same words and terminology that is said in the podcast\n",
      "- Do not respond with anything outside of the podcast. If you don't see any topics, say, 'No Topics'\n",
      "- Do not respond with numbers, just bullet points\n",
      "- Do not include anything about 'Marketing Against the Grain'\n",
      "- Only pull topics from the transcript. Do not use the examples\n",
      "- Make your titles descriptive but concise. Example: 'Shaan's Experience at Twitch' should be 'Shaan's Interesting Projects At Twitch'\n",
      "- A topic should be substantial, more than just a one-off comment\n",
      "\n",
      "% START OF EXAMPLES\n",
      " - Sam's Elisabeth Murdoch Story: Sam got a call from Elizabeth Murdoch when he had just launched The Hustle. She wanted to generate video content.\n",
      " - Shaan's Rupert Murdoch Story: When Shaan was running Blab he was invited to an event organized by Rupert Murdoch during CES in Las Vegas.\n",
      " - Revenge Against The Spam Calls: A couple of businesses focused on protecting consumers: RoboCall, TrueCaller, DoNotPay, FitIt\n",
      " - Wildcard CEOs vs. Prudent CEOs: However, Munger likes to surround himself with prudent CEO's and says he would never hire Musk.\n",
      " - Chess Business: Priyav, a college student, expressed his doubts on the MFM Facebook group about his Chess training business, mychesstutor.com, making $12.5K MRR with 90 enrolled.\n",
      " - Restaurant Refiller: An MFM Facebook group member commented on how they pay AirMark $1,000/month for toilet paper and toilet cover refills for their restaurant. Shaan sees an opportunity here for anyone wanting to compete against AirMark.\n",
      " - Collecting: Shaan shared an idea to build a mobile only marketplace for a collectors' category; similar to what StockX does for premium sneakers.\n",
      "% END OF EXAMPLES\n",
      "\n",
      "Human: Transcript: ADDITIONAL MAGNET FOR EVERYBODY TO COME TO NEW YORK? >> WELL, I CERTAINLY OPPOSE THAT. AND HAVE BEEN ONE OF THE LEADING VOICES SPEAKING OUT AGAINST THE AMNESTY POLICIES, FRANKLY, THAT HAVE BEEN PERPETRATED BY GOVERNOR HOCHUL, MAYOR ERIC ADAMS OF NEW YORK CITY AND MOST PROMINENTLY PRESIDENT JOE BIDEN. AND, REMEMBER, THESE DEMOCRAT LEADERS IN NEW YORK, THEY WERE THE ONES THAT INITIALLY SAID WE WELCOME ILLEGALS TO NEW YORK STATE. NOW IT IS AN ABSOLUTE CRISIS, WHETHER IT COMES TO WE DON'T HAVE THE ECONOMIC AND BUDGET AND FISCAL ABILITY TO CARE FOR THESE INDIVIDUALS THAT OVER 19,000 ILLEGALS THAT ARE NOW IN OUR SCHOOL SYSTEMS, THAT HURTS HARDWORKING NEW YORK FAMILIES. NEW YORK STUDENTS WHO ALREADY ARE FACING SIGNIFICANT CHALLENGES. AND NOW TO GIVE THEM WORK PERMITS IN NEW YORK STATE CIRCUMVENTING THE STATE LEGISLATURE, THAT'S ABSOLUTELY I OPPOSE IT AND WE NEED TO SECURE THE BORDER. YOU HAVE ERIC ADAMS, KATHY HOCHUL BEGGING JOE BIDEN FOR FEDERAL FUNDS. WHAT THEY REALLY SHOULD BE FOCUSED ON IS SECURING THE BORDER BECAUSE WE KNOW THE POLICIES THAT WORKED AND HOUSE REPUBLICANS PASSED THE STRONGEST BORDER SECURITY PACKAGE IN THE HISTORY OF CONGRESS. >> Brian: THEY SHOULD BE GETTING RID OF THE SANCTUARY CITY STATUS AND GETTING RID OF THE RIGHT TO SHELTER STATUS. THOSE TWO THINGS HAVE TO GO RIGHT AWAY. I'M WONDERING IF WE'RE GETTING CLOSE TO THAT POINT AND DEMOCRATS WILL FINALLY ADMIT IT. EL\u001b[0m\n",
      "Prompt after formatting:\n",
      "\u001b[32;1m\u001b[1;3mSystem: \n",
      "You are a helpful assistant that helps retrieve topics talked about in a podcast transcript\n",
      "- Your goal is to extract the topic names and brief 1-sentence description of the topic\n",
      "- Topics include:\n",
      "  - Themes\n",
      "  - Business Ideas\n",
      "  - Interesting Stories\n",
      "  - Money making businesses\n",
      "  - Quick stories about people\n",
      "  - Mental Frameworks\n",
      "  - Stories about an industry\n",
      "  - Analogies mentioned\n",
      "  - Advice or words of caution\n",
      "  - Pieces of news or current events\n",
      "- Provide a brief description of the topics after the topic name. Example: 'Topic: Brief Description'\n",
      "- Use the same words and terminology that is said in the podcast\n",
      "- Do not respond with anything outside of the podcast. If you don't see any topics, say, 'No Topics'\n",
      "- Do not respond with numbers, just bullet points\n",
      "- Do not include anything about 'Marketing Against the Grain'\n",
      "- Only pull topics from the transcript. Do not use the examples\n",
      "- Make your titles descriptive but concise. Example: 'Shaan's Experience at Twitch' should be 'Shaan's Interesting Projects At Twitch'\n",
      "- A topic should be substantial, more than just a one-off comment\n",
      "\n",
      "% START OF EXAMPLES\n",
      " - Sam's Elisabeth Murdoch Story: Sam got a call from Elizabeth Murdoch when he had just launched The Hustle. She wanted to generate video content.\n",
      " - Shaan's Rupert Murdoch Story: When Shaan was running Blab he was invited to an event organized by Rupert Murdoch during CES in Las Vegas.\n",
      " - Revenge Against The Spam Calls: A couple of businesses focused on protecting consumers: RoboCall, TrueCaller, DoNotPay, FitIt\n",
      " - Wildcard CEOs vs. Prudent CEOs: However, Munger likes to surround himself with prudent CEO's and says he would never hire Musk.\n",
      " - Chess Business: Priyav, a college student, expressed his doubts on the MFM Facebook group about his Chess training business, mychesstutor.com, making $12.5K MRR with 90 enrolled.\n",
      " - Restaurant Refiller: An MFM Facebook group member commented on how they pay AirMark $1,000/month for toilet paper and toilet cover refills for their restaurant. Shaan sees an opportunity here for anyone wanting to compete against AirMark.\n",
      " - Collecting: Shaan shared an idea to build a mobile only marketplace for a collectors' category; similar to what StockX does for premium sneakers.\n",
      "% END OF EXAMPLES\n",
      "\n",
      "Human: Transcript: awful in Libya as it is too in Morocco we have live pictures coming to us still from there as a search and rescue operation continues in Morocco this massive effort uh to try and search for survivors from the devastating earthquake there uh we've seen some hopeful pictures of Aid workers arriving in small villages bringing food toys and shelter for people but what you're seeing here is one of the rescue teams just continuing to search for survivors but un fortunately I think those hopes are fading fast we're hearing uh lots of uh reports from Morocco just saying when they send in the sniffer dogs they're not really getting many signs of life but they continue of course that powerful earthquake in Morocco killing 2,900 people and leaving hundreds of thousands of people homeless uh well we can take you there now because the BBC's Tom bitman is in the Atlas Mountains he's been with UK Aid workers searching for survivors and he joined me a short time ago well it has been here Lucy another desperate night for the survivors of this earthquake a fifth night out in the open and one of the things we've been witnessing is just a Dar of shelter of tents for people people are having to use blankets tarp pooling bits of Timber broken tree branches to try and take shelter it gets very chilly in the high Atlas Mountains uh at night and that is putting people at increased risk who are already of course Very traumatized after the events of Last Friday now we've come to the town of amiz this is basically now a base of the mountains for the four International uh search and rescue teams who have been invited here by the Moroccans the Moroccan military here as well in the last few minutes we've seen a helicopter take off now in there are two or several members I should say of uh the British Rescue Team you can see their basee Camp uh behind us here but even in that case because of the uh very difficult conditions the inaccessibility of places that have been struck they've been told that\u001b[0m\n",
      "Prompt after formatting:\n",
      "\u001b[32;1m\u001b[1;3mSystem: \n",
      "You are a helpful assistant that helps retrieve topics talked about in a podcast transcript\n",
      "- Your goal is to extract the topic names and brief 1-sentence description of the topic\n",
      "- Topics include:\n",
      "  - Themes\n",
      "  - Business Ideas\n",
      "  - Interesting Stories\n",
      "  - Money making businesses\n",
      "  - Quick stories about people\n",
      "  - Mental Frameworks\n",
      "  - Stories about an industry\n",
      "  - Analogies mentioned\n",
      "  - Advice or words of caution\n",
      "  - Pieces of news or current events\n",
      "- Provide a brief description of the topics after the topic name. Example: 'Topic: Brief Description'\n",
      "- Use the same words and terminology that is said in the podcast\n",
      "- Do not respond with anything outside of the podcast. If you don't see any topics, say, 'No Topics'\n",
      "- Do not respond with numbers, just bullet points\n",
      "- Do not include anything about 'Marketing Against the Grain'\n",
      "- Only pull topics from the transcript. Do not use the examples\n",
      "- Make your titles descriptive but concise. Example: 'Shaan's Experience at Twitch' should be 'Shaan's Interesting Projects At Twitch'\n",
      "- A topic should be substantial, more than just a one-off comment\n",
      "\n",
      "% START OF EXAMPLES\n",
      " - Sam's Elisabeth Murdoch Story: Sam got a call from Elizabeth Murdoch when he had just launched The Hustle. She wanted to generate video content.\n",
      " - Shaan's Rupert Murdoch Story: When Shaan was running Blab he was invited to an event organized by Rupert Murdoch during CES in Las Vegas.\n",
      " - Revenge Against The Spam Calls: A couple of businesses focused on protecting consumers: RoboCall, TrueCaller, DoNotPay, FitIt\n",
      " - Wildcard CEOs vs. Prudent CEOs: However, Munger likes to surround himself with prudent CEO's and says he would never hire Musk.\n",
      " - Chess Business: Priyav, a college student, expressed his doubts on the MFM Facebook group about his Chess training business, mychesstutor.com, making $12.5K MRR with 90 enrolled.\n",
      " - Restaurant Refiller: An MFM Facebook group member commented on how they pay AirMark $1,000/month for toilet paper and toilet cover refills for their restaurant. Shaan sees an opportunity here for anyone wanting to compete against AirMark.\n",
      " - Collecting: Shaan shared an idea to build a mobile only marketplace for a collectors' category; similar to what StockX does for premium sneakers.\n",
      "% END OF EXAMPLES\n",
      "\n",
      "Human: Transcript: they can only do reconnaissance at that point they can't actually land to get that help and that potential rescue to where it is most needed now after the last 24 in the last 24 hours we have uh joined one of those UK search and rescue teams on a journey into one of the most remote areas of this region good searching for the scent of Life Colin scours the ruins of one of Morocco's most devastated Mountain Villages we've followed the UK's Rescue Team on a journey to the earthquake's epicenter and this British crew here to search for survivors though they are working Against All Odds yeah unfortunately and calling he's an experienced dog he was in Turkey earlier this year um he only goes on live scent unfortunately there's been no indication there's no interest so unfortunately it doesn't look like there's any any um live casualties in this area so now it's all about recovery how do you cope with everything you know destroyed Hussein digs out the remains of his home hoping to get to his possessions and his family clothes I was here with my family we were having dinner the ceiling fill on me it's God's decision my brother died there's nothing I can do I'm just going to take my clothes out and go to the tent and this is their home now people are having to find a way to live with the foul air of death all around them they say more than a hundred were buried instantly when the Quake hit here the destruction is near absolute well only the minet of their mosque remains everything else homes streets a whole Community is reduced to this it is overwhelming and everyone we've spoken to here says they believe everyone that was missing has died there is no hope left of finding survivors some supplies are arriving for people who have lost everything all but cut off from the outside world residents say they need much more there is no house to live in if there is no help from the government we have nothing and what the Earth took away they are already trying to rebuild these are\u001b[0m\n",
      "Prompt after formatting:\n",
      "\u001b[32;1m\u001b[1;3mSystem: \n",
      "You are a helpful assistant that helps retrieve topics talked about in a podcast transcript\n",
      "- Your goal is to extract the topic names and brief 1-sentence description of the topic\n",
      "- Topics include:\n",
      "  - Themes\n",
      "  - Business Ideas\n",
      "  - Interesting Stories\n",
      "  - Money making businesses\n",
      "  - Quick stories about people\n",
      "  - Mental Frameworks\n",
      "  - Stories about an industry\n",
      "  - Analogies mentioned\n",
      "  - Advice or words of caution\n",
      "  - Pieces of news or current events\n",
      "- Provide a brief description of the topics after the topic name. Example: 'Topic: Brief Description'\n",
      "- Use the same words and terminology that is said in the podcast\n",
      "- Do not respond with anything outside of the podcast. If you don't see any topics, say, 'No Topics'\n",
      "- Do not respond with numbers, just bullet points\n",
      "- Do not include anything about 'Marketing Against the Grain'\n",
      "- Only pull topics from the transcript. Do not use the examples\n",
      "- Make your titles descriptive but concise. Example: 'Shaan's Experience at Twitch' should be 'Shaan's Interesting Projects At Twitch'\n",
      "- A topic should be substantial, more than just a one-off comment\n",
      "\n",
      "% START OF EXAMPLES\n",
      " - Sam's Elisabeth Murdoch Story: Sam got a call from Elizabeth Murdoch when he had just launched The Hustle. She wanted to generate video content.\n",
      " - Shaan's Rupert Murdoch Story: When Shaan was running Blab he was invited to an event organized by Rupert Murdoch during CES in Las Vegas.\n",
      " - Revenge Against The Spam Calls: A couple of businesses focused on protecting consumers: RoboCall, TrueCaller, DoNotPay, FitIt\n",
      " - Wildcard CEOs vs. Prudent CEOs: However, Munger likes to surround himself with prudent CEO's and says he would never hire Musk.\n",
      " - Chess Business: Priyav, a college student, expressed his doubts on the MFM Facebook group about his Chess training business, mychesstutor.com, making $12.5K MRR with 90 enrolled.\n",
      " - Restaurant Refiller: An MFM Facebook group member commented on how they pay AirMark $1,000/month for toilet paper and toilet cover refills for their restaurant. Shaan sees an opportunity here for anyone wanting to compete against AirMark.\n",
      " - Collecting: Shaan shared an idea to build a mobile only marketplace for a collectors' category; similar to what StockX does for premium sneakers.\n",
      "% END OF EXAMPLES\n",
      "\n",
      "Human: Transcript: people Shattered by loss having to find the ways to keep going Tom so we see that British team there as you say working against the odds and then you're interviewing people who say they need much more help and yet there's been this concern some criticism perhaps that some International agencies and countries haven't been able to get into Morocco what are the authorities saying about that yeah because it took around 48 hours or so for the Moroccan authorities to invite Aid in and countries obviously won't deploy until they get that formal invitation because it all needs to be coordinated that's an absolutely crucial element to all of this the Moroccan government itself has said that it is very much about that coordination as to why they've only invited those four countries in so far saying they don't want to be overwhelmed uh and try to focus and Target theis response but we've been hearing you know up in the mountains repeatedly now complaints about you know a lack of official response and particularly that issue about humanitarian Aid it's very much been volunteers family friends coming from Casablanca from Marakesh and local charities and NOS who have been helping people as far as we've seen now there has been I think in the last 24 hours or so a much more visible presence of the Moroccan Armed Forces especially in some of those more remote regions we were seeing that um yesterday so clearly things are getting off the ground but it has felt painfully slow\u001b[0m\n",
      "\n",
      "\u001b[1m> Finished chain.\u001b[0m\n",
      "\n",
      "\n",
      "\u001b[1m> Entering new LLMChain chain...\u001b[0m\n",
      "Prompt after formatting:\n",
      "\u001b[32;1m\u001b[1;3mSystem: \n",
      "You are a helpful assistant that helps retrieve topics talked about in a podcast transcript\n",
      "- You will be given a series of bullet topics of topics vound\n",
      "- Your goal is to exract the topic names and brief 1-sentence description of the topic\n",
      "- Deduplicate any bullet points you see\n",
      "- Only pull topics from the transcript. Do not use the examples\n",
      "\n",
      "% START OF EXAMPLES\n",
      " - Sam’s Elisabeth Murdoch Story: Sam got a call from Elizabeth Murdoch when he had just launched The Hustle. She wanted to generate video content.\n",
      " - Shaan’s Rupert Murdoch Story: When Shaan was running Blab he was invited to an event organized by Rupert Murdoch during CES in Las Vegas.\n",
      "% END OF EXAMPLES\n",
      "\n",
      "Human: Transcript: - Impeachment Inquiry into President Biden: The podcast discusses the impeachment inquiry into President Biden over his alleged involvement with Hunter's business dealings. The inquiry is supported by Republican Conference Chair Elise Stefanik and Speaker Kevin McCarthy.\n",
      "- Biden Family's Business Dealings: The podcast reveals that House Republicans have uncovered over 20 LLCs used by the Biden family and over $20 million from China, Russia, Ukraine, and Romania going into the Biden family.\n",
      "- Alleged Bribery Scheme: The podcast mentions a bribery scheme involving Burisma and the Obama administration's policy for Ukraine, according to confidential human sources.\n",
      "- Importance of Impeachment Inquiry: The podcast emphasizes the importance of the impeachment inquiry as it ensures Congress's power when it comes to deposition and subpoena, and it is seen as a crucial step towards transparency.\n",
      "\n",
      "- Bribery Scheme and Corruption Allegations: Discussion about alleged bribery schemes, illegal acts, and corruption at the highest level of the U.S. government.\n",
      "- Potential Vote on Bribery Scheme: Speculation on whether a vote on the alleged bribery scheme would pass, with the belief that more members might support it as they see the facts.\n",
      "- Donald Trump's Relationship with Kevin McCarthy: Discussion about Donald Trump's frequent communication with Kevin McCarthy and other leadership, and the mutual respect between them.\n",
      "- Possible Running Mate for Donald Trump: Speculation about the possibility of the speaker being considered as a running mate for Donald Trump, should he secure the nomination.\n",
      "- New York's Immigration Issue: Discussion about the New York governor's provision to allow 65,000 minimum illegal immigrants living in the state a right to work.\n",
      "\n",
      "- Opposition to New York's Amnesty Policies: The speaker opposes the amnesty policies implemented by Governor Hochul, Mayor Eric Adams, and President Joe Biden, arguing that they have led to a crisis in New York due to the state's inability to economically and fiscally support the influx of illegal immigrants.\n",
      "- Impact on New York's School Systems: The speaker discusses the strain on New York's school systems due to the addition of over 19,000 illegal immigrants, which they argue negatively affects hardworking New York families and students.\n",
      "- Work Permits for Illegal Immigrants: The speaker criticizes the decision to give work permits to illegal immigrants in New York, arguing that it circumvents the state legislature.\n",
      "- Call for Border Security: The speaker advocates for securing the border as a solution to the immigration issue, citing the policies passed by House Republicans as effective measures.\n",
      "- Criticism of Sanctuary City and Right to Shelter Status: The speaker suggests that the sanctuary city status and the right to shelter status should be abolished, implying that these policies contribute to the immigration issue.\n",
      "\n",
      "- Devastating Earthquake in Morocco: A powerful earthquake in Morocco has resulted in the death of 2,900 people and left hundreds of thousands homeless. Rescue operations are ongoing but hopes of finding more survivors are fading.\n",
      "- Aid Workers in Morocco: Aid workers have arrived in small villages in Morocco, bringing food, toys, and shelter for the survivors of the earthquake.\n",
      "- Living Conditions Post-Earthquake: Survivors are facing desperate conditions, having to use blankets, tarpaulin, timber, and broken tree branches for shelter in the chilly Atlas Mountains.\n",
      "- International Rescue Teams in Morocco: Four international search and rescue teams, including a British team, have been invited by the Moroccans to assist in the rescue operations.\n",
      "\n",
      "- UK's Rescue Team in Morocco: The UK's rescue team, along with a search dog named Colin, journeyed to the epicenter of an earthquake in Morocco to search for survivors.\n",
      "- Hussein's Earthquake Experience: Hussein, a local resident, recounts his experience during the earthquake, where he lost his brother and his home.\n",
      "- Living Conditions Post-Earthquake: The residents are forced to live in tents amidst the ruins, dealing with the foul air of death, and are in dire need of more supplies.\n",
      "- Rebuilding Efforts: Despite the devastation, the residents are already trying to rebuild what the earthquake took away.\n",
      "\n",
      "- Moroccan Earthquake Response: The Moroccan authorities took around 48 hours to invite international aid after an earthquake, citing the need for coordination and not wanting to be overwhelmed.\n",
      "- Criticism of Moroccan Government: There have been complaints about a lack of official response and issues with humanitarian aid, with most help coming from volunteers, family, friends, and local charities.\n",
      "- Moroccan Armed Forces Involvement: In the last 24 hours, there has been a more visible presence of the Moroccan Armed Forces in remote regions affected by the earthquake.\u001b[0m\n",
      "\n",
      "\u001b[1m> Finished chain.\u001b[0m\n",
      "\n",
      "\u001b[1m> Finished chain.\u001b[0m\n"
     ]
    }
   ],
   "source": [
    "topics_found = chain.run({\"input_documents\": texts})"
   ]
  },
  {
   "cell_type": "code",
   "execution_count": 33,
   "metadata": {},
   "outputs": [
    {
     "name": "stdout",
     "output_type": "stream",
     "text": [
      "- Impeachment Inquiry into President Biden: The podcast discusses the impeachment inquiry into President Biden over his alleged involvement with Hunter's business dealings.\n",
      "- Biden Family's Business Dealings: The podcast reveals that House Republicans have uncovered over 20 LLCs used by the Biden family and over $20 million from China, Russia, Ukraine, and Romania going into the Biden family.\n",
      "- Alleged Bribery Scheme: The podcast mentions a bribery scheme involving Burisma and the Obama administration's policy for Ukraine, according to confidential human sources.\n",
      "- Importance of Impeachment Inquiry: The podcast emphasizes the importance of the impeachment inquiry as it ensures Congress's power when it comes to deposition and subpoena, and it is seen as a crucial step towards transparency.\n",
      "- Potential Vote on Bribery Scheme: Speculation on whether a vote on the alleged bribery scheme would pass, with the belief that more members might support it as they see the facts.\n",
      "- Donald Trump's Relationship with Kevin McCarthy: Discussion about Donald Trump's frequent communication with Kevin McCarthy and other leadership, and the mutual respect between them.\n",
      "- Possible Running Mate for Donald Trump: Speculation about the possibility of the speaker being considered as a running mate for Donald Trump, should he secure the nomination.\n",
      "- New York's Immigration Issue: Discussion about the New York governor's provision to allow 65,000 minimum illegal immigrants living in the state a right to work.\n",
      "- Opposition to New York's Amnesty Policies: The speaker opposes the amnesty policies implemented by Governor Hochul, Mayor Eric Adams, and President Joe Biden, arguing that they have led to a crisis in New York due to the state's inability to economically and fiscally support the influx of illegal immigrants.\n",
      "- Impact on New York's School Systems: The speaker discusses the strain on New York's school systems due to the addition of over 19,000 illegal immigrants, which they argue negatively affects hardworking New York families and students.\n",
      "- Work Permits for Illegal Immigrants: The speaker criticizes the decision to give work permits to illegal immigrants in New York, arguing that it circumvents the state legislature.\n",
      "- Call for Border Security: The speaker advocates for securing the border as a solution to the immigration issue, citing the policies passed by House Republicans as effective measures.\n",
      "- Criticism of Sanctuary City and Right to Shelter Status: The speaker suggests that the sanctuary city status and the right to shelter status should be abolished, implying that these policies contribute to the immigration issue.\n",
      "- Devastating Earthquake in Morocco: A powerful earthquake in Morocco has resulted in the death of 2,900 people and left hundreds of thousands homeless.\n",
      "- Aid Workers in Morocco: Aid workers have arrived in small villages in Morocco, bringing food, toys, and shelter for the survivors of the earthquake.\n",
      "- Living Conditions Post-Earthquake: Survivors are facing desperate conditions, having to use blankets, tarpaulin, timber, and broken tree branches for shelter in the chilly Atlas Mountains.\n",
      "- International Rescue Teams in Morocco: Four international search and rescue teams, including a British team, have been invited by the Moroccans to assist in the rescue operations.\n",
      "- UK's Rescue Team in Morocco: The UK's rescue team, along with a search dog named Colin, journeyed to the epicenter of an earthquake in Morocco to search for survivors.\n",
      "- Hussein's Earthquake Experience: Hussein, a local resident, recounts his experience during the earthquake, where he lost his brother and his home.\n",
      "- Rebuilding Efforts: Despite the devastation, the residents are already trying to rebuild what the earthquake took away.\n",
      "- Moroccan Earthquake Response: The Moroccan authorities took around 48 hours to invite international aid after an earthquake, citing the need for coordination and not wanting to be overwhelmed.\n",
      "- Criticism of Moroccan Government: There have been complaints about a lack of official response and issues with humanitarian aid, with most help coming from volunteers, family, friends, and local charities.\n",
      "- Moroccan Armed Forces Involvement: In the last 24 hours, there has been a more visible presence of the Moroccan Armed Forces in remote regions affected by the earthquake.\n"
     ]
    }
   ],
   "source": [
    "print (topics_found)"
   ]
  },
  {
   "cell_type": "markdown",
   "metadata": {},
   "source": [
    "Structured Data - Turn your LLM output into structured data"
   ]
  },
  {
   "cell_type": "code",
   "execution_count": 34,
   "metadata": {},
   "outputs": [],
   "source": [
    "schema = {\n",
    "    \"properties\": {\n",
    "        # The title of the topic\n",
    "        \"topic_name\": {\n",
    "            \"type\": \"string\",\n",
    "            \"description\" : \"The title of the topic listed\"\n",
    "        },\n",
    "        # The description\n",
    "        \"description\": {\n",
    "            \"type\": \"string\",\n",
    "            \"description\" : \"The description of the topic listed\"\n",
    "        },\n",
    "        \"tag\": {\n",
    "            \"type\": \"string\",\n",
    "            \"description\" : \"The type of content being described\",\n",
    "            \"enum\" : ['Business Models', 'Life Advice', 'Health & Wellness', 'Stories']\n",
    "        }\n",
    "    },\n",
    "    \"required\": [\"topic\", \"description\"],\n",
    "}"
   ]
  },
  {
   "cell_type": "code",
   "execution_count": 35,
   "metadata": {},
   "outputs": [],
   "source": [
    "# Using gpt3.5 here because this is an easy extraction task and no need to jump to gpt4\n",
    "chain = create_extraction_chain(schema, llm3)"
   ]
  },
  {
   "cell_type": "code",
   "execution_count": 36,
   "metadata": {},
   "outputs": [],
   "source": [
    "topics_structured = chain.run(topics_found)"
   ]
  },
  {
   "cell_type": "code",
   "execution_count": 37,
   "metadata": {},
   "outputs": [
    {
     "data": {
      "text/plain": [
       "[{'topic_name': 'Impeachment Inquiry into President Biden',\n",
       "  'description': \"The podcast discusses the impeachment inquiry into President Biden over his alleged involvement with Hunter's business dealings.\",\n",
       "  'tag': 'Business Models'},\n",
       " {'topic_name': \"Biden Family's Business Dealings\",\n",
       "  'description': 'The podcast reveals that House Republicans have uncovered over 20 LLCs used by the Biden family and over $20 million from China, Russia, Ukraine, and Romania going into the Biden family.',\n",
       "  'tag': 'Business Models'},\n",
       " {'topic_name': 'Alleged Bribery Scheme',\n",
       "  'description': \"The podcast mentions a bribery scheme involving Burisma and the Obama administration's policy for Ukraine, according to confidential human sources.\",\n",
       "  'tag': 'Business Models'},\n",
       " {'topic_name': 'Importance of Impeachment Inquiry',\n",
       "  'description': \"The podcast emphasizes the importance of the impeachment inquiry as it ensures Congress's power when it comes to deposition and subpoena, and it is seen as a crucial step towards transparency.\",\n",
       "  'tag': 'Business Models'},\n",
       " {'topic_name': 'Potential Vote on Bribery Scheme',\n",
       "  'description': 'Speculation on whether a vote on the alleged bribery scheme would pass, with the belief that more members might support it as they see the facts.',\n",
       "  'tag': 'Business Models'},\n",
       " {'topic_name': \"Donald Trump's Relationship with Kevin McCarthy\",\n",
       "  'description': \"Discussion about Donald Trump's frequent communication with Kevin McCarthy and other leadership, and the mutual respect between them.\",\n",
       "  'tag': 'Business Models'},\n",
       " {'topic_name': 'Possible Running Mate for Donald Trump',\n",
       "  'description': 'Speculation about the possibility of the speaker being considered as a running mate for Donald Trump, should he secure the nomination.',\n",
       "  'tag': 'Business Models'},\n",
       " {'topic_name': \"New York's Immigration Issue\",\n",
       "  'description': \"Discussion about the New York governor's provision to allow 65,000 minimum illegal immigrants living in the state a right to work.\",\n",
       "  'tag': 'Business Models'},\n",
       " {'topic_name': \"Opposition to New York's Amnesty Policies\",\n",
       "  'description': \"The speaker opposes the amnesty policies implemented by Governor Hochul, Mayor Eric Adams, and President Joe Biden, arguing that they have led to a crisis in New York due to the state's inability to economically and fiscally support the influx of illegal immigrants.\",\n",
       "  'tag': 'Business Models'},\n",
       " {'topic_name': \"Impact on New York's School Systems\",\n",
       "  'description': \"The speaker discusses the strain on New York's school systems due to the addition of over 19,000 illegal immigrants, which they argue negatively affects hardworking New York families and students.\",\n",
       "  'tag': 'Business Models'},\n",
       " {'topic_name': 'Work Permits for Illegal Immigrants',\n",
       "  'description': 'The speaker criticizes the decision to give work permits to illegal immigrants in New York, arguing that it circumvents the state legislature.',\n",
       "  'tag': 'Business Models'},\n",
       " {'topic_name': 'Call for Border Security',\n",
       "  'description': 'The speaker advocates for securing the border as a solution to the immigration issue, citing the policies passed by House Republicans as effective measures.',\n",
       "  'tag': 'Business Models'},\n",
       " {'topic_name': 'Criticism of Sanctuary City and Right to Shelter Status',\n",
       "  'description': 'The speaker suggests that the sanctuary city status and the right to shelter status should be abolished, implying that these policies contribute to the immigration issue.',\n",
       "  'tag': 'Business Models'},\n",
       " {'topic_name': 'Devastating Earthquake in Morocco',\n",
       "  'description': 'A powerful earthquake in Morocco has resulted in the death of 2,900 people and left hundreds of thousands homeless.',\n",
       "  'tag': 'Stories'},\n",
       " {'topic_name': 'Aid Workers in Morocco',\n",
       "  'description': 'Aid workers have arrived in small villages in Morocco, bringing food, toys, and shelter for the survivors of the earthquake.',\n",
       "  'tag': 'Stories'},\n",
       " {'topic_name': 'Living Conditions Post-Earthquake',\n",
       "  'description': 'Survivors are facing desperate conditions, having to use blankets, tarpaulin, timber, and broken tree branches for shelter in the chilly Atlas Mountains.',\n",
       "  'tag': 'Stories'},\n",
       " {'topic_name': 'International Rescue Teams in Morocco',\n",
       "  'description': 'Four international search and rescue teams, including a British team, have been invited by the Moroccans to assist in the rescue operations.',\n",
       "  'tag': 'Stories'},\n",
       " {'topic_name': \"UK's Rescue Team in Morocco\",\n",
       "  'description': \"The UK's rescue team, along with a search dog named Colin, journeyed to the epicenter of an earthquake in Morocco to search for survivors.\",\n",
       "  'tag': 'Stories'},\n",
       " {'topic_name': \"Hussein's Earthquake Experience\",\n",
       "  'description': 'Hussein, a local resident, recounts his experience during the earthquake, where he lost his brother and his home.',\n",
       "  'tag': 'Stories'},\n",
       " {'topic_name': 'Rebuilding Efforts',\n",
       "  'description': 'Despite the devastation, the residents are already trying to rebuild what the earthquake took away.',\n",
       "  'tag': 'Stories'},\n",
       " {'topic_name': 'Moroccan Earthquake Response',\n",
       "  'description': 'The Moroccan authorities took around 48 hours to invite international aid after an earthquake, citing the need for coordination and not wanting to be overwhelmed.',\n",
       "  'tag': 'Stories'},\n",
       " {'topic_name': 'Criticism of Moroccan Government',\n",
       "  'description': 'There have been complaints about a lack of official response and issues with humanitarian aid, with most help coming from volunteers, family, friends, and local charities.',\n",
       "  'tag': 'Stories'},\n",
       " {'topic_name': 'Moroccan Armed Forces Involvement',\n",
       "  'description': 'In the last 24 hours, there has been a more visible presence of the Moroccan Armed Forces in remote regions affected by the earthquake.',\n",
       "  'tag': 'Stories'}]"
      ]
     },
     "execution_count": 37,
     "metadata": {},
     "output_type": "execute_result"
    }
   ],
   "source": [
    "topics_structured"
   ]
  },
  {
   "cell_type": "code",
   "execution_count": null,
   "metadata": {},
   "outputs": [],
   "source": []
  }
 ],
 "metadata": {
  "kernelspec": {
   "display_name": "base",
   "language": "python",
   "name": "python3"
  },
  "language_info": {
   "codemirror_mode": {
    "name": "ipython",
    "version": 3
   },
   "file_extension": ".py",
   "mimetype": "text/x-python",
   "name": "python",
   "nbconvert_exporter": "python",
   "pygments_lexer": "ipython3",
   "version": "3.8.17"
  },
  "orig_nbformat": 4
 },
 "nbformat": 4,
 "nbformat_minor": 2
}
